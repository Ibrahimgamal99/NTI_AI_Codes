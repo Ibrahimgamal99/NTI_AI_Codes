{
 "cells": [
  {
   "cell_type": "code",
   "execution_count": 1,
   "metadata": {},
   "outputs": [],
   "source": [
    "import pandas as pd \n",
    "import matplotlib.pyplot as plt\n",
    "%matplotlib inline"
   ]
  },
  {
   "cell_type": "code",
   "execution_count": 2,
   "metadata": {},
   "outputs": [
    {
     "data": {
      "text/html": [
       "<div>\n",
       "<style scoped>\n",
       "    .dataframe tbody tr th:only-of-type {\n",
       "        vertical-align: middle;\n",
       "    }\n",
       "\n",
       "    .dataframe tbody tr th {\n",
       "        vertical-align: top;\n",
       "    }\n",
       "\n",
       "    .dataframe thead th {\n",
       "        text-align: right;\n",
       "    }\n",
       "</style>\n",
       "<table border=\"1\" class=\"dataframe\">\n",
       "  <thead>\n",
       "    <tr style=\"text-align: right;\">\n",
       "      <th></th>\n",
       "      <th>longitude</th>\n",
       "      <th>latitude</th>\n",
       "      <th>housing_median_age</th>\n",
       "      <th>total_rooms</th>\n",
       "      <th>total_bedrooms</th>\n",
       "      <th>population</th>\n",
       "      <th>households</th>\n",
       "      <th>median_income</th>\n",
       "      <th>median_house_value</th>\n",
       "      <th>ocean_proximity</th>\n",
       "    </tr>\n",
       "  </thead>\n",
       "  <tbody>\n",
       "    <tr>\n",
       "      <th>0</th>\n",
       "      <td>-122.23</td>\n",
       "      <td>37.88</td>\n",
       "      <td>41.0</td>\n",
       "      <td>880.0</td>\n",
       "      <td>129.0</td>\n",
       "      <td>322.0</td>\n",
       "      <td>126.0</td>\n",
       "      <td>8.3252</td>\n",
       "      <td>452600.0</td>\n",
       "      <td>NEAR BAY</td>\n",
       "    </tr>\n",
       "    <tr>\n",
       "      <th>1</th>\n",
       "      <td>-122.22</td>\n",
       "      <td>37.86</td>\n",
       "      <td>21.0</td>\n",
       "      <td>7099.0</td>\n",
       "      <td>1106.0</td>\n",
       "      <td>2401.0</td>\n",
       "      <td>1138.0</td>\n",
       "      <td>8.3014</td>\n",
       "      <td>358500.0</td>\n",
       "      <td>NEAR BAY</td>\n",
       "    </tr>\n",
       "    <tr>\n",
       "      <th>2</th>\n",
       "      <td>-122.24</td>\n",
       "      <td>37.85</td>\n",
       "      <td>52.0</td>\n",
       "      <td>1467.0</td>\n",
       "      <td>190.0</td>\n",
       "      <td>496.0</td>\n",
       "      <td>177.0</td>\n",
       "      <td>7.2574</td>\n",
       "      <td>352100.0</td>\n",
       "      <td>NEAR BAY</td>\n",
       "    </tr>\n",
       "    <tr>\n",
       "      <th>3</th>\n",
       "      <td>-122.25</td>\n",
       "      <td>37.85</td>\n",
       "      <td>52.0</td>\n",
       "      <td>1274.0</td>\n",
       "      <td>235.0</td>\n",
       "      <td>558.0</td>\n",
       "      <td>219.0</td>\n",
       "      <td>5.6431</td>\n",
       "      <td>341300.0</td>\n",
       "      <td>NEAR BAY</td>\n",
       "    </tr>\n",
       "    <tr>\n",
       "      <th>4</th>\n",
       "      <td>-122.25</td>\n",
       "      <td>37.85</td>\n",
       "      <td>52.0</td>\n",
       "      <td>1627.0</td>\n",
       "      <td>280.0</td>\n",
       "      <td>565.0</td>\n",
       "      <td>259.0</td>\n",
       "      <td>3.8462</td>\n",
       "      <td>342200.0</td>\n",
       "      <td>NEAR BAY</td>\n",
       "    </tr>\n",
       "  </tbody>\n",
       "</table>\n",
       "</div>"
      ],
      "text/plain": [
       "   longitude  latitude  housing_median_age  total_rooms  total_bedrooms  \\\n",
       "0    -122.23     37.88                41.0        880.0           129.0   \n",
       "1    -122.22     37.86                21.0       7099.0          1106.0   \n",
       "2    -122.24     37.85                52.0       1467.0           190.0   \n",
       "3    -122.25     37.85                52.0       1274.0           235.0   \n",
       "4    -122.25     37.85                52.0       1627.0           280.0   \n",
       "\n",
       "   population  households  median_income  median_house_value ocean_proximity  \n",
       "0       322.0       126.0         8.3252            452600.0        NEAR BAY  \n",
       "1      2401.0      1138.0         8.3014            358500.0        NEAR BAY  \n",
       "2       496.0       177.0         7.2574            352100.0        NEAR BAY  \n",
       "3       558.0       219.0         5.6431            341300.0        NEAR BAY  \n",
       "4       565.0       259.0         3.8462            342200.0        NEAR BAY  "
      ]
     },
     "execution_count": 2,
     "metadata": {},
     "output_type": "execute_result"
    }
   ],
   "source": [
    "dataset=pd.read_csv('housing.csv')\n",
    "dataset.head(5)"
   ]
  },
  {
   "cell_type": "code",
   "execution_count": 3,
   "metadata": {},
   "outputs": [
    {
     "name": "stdout",
     "output_type": "stream",
     "text": [
      "<class 'pandas.core.frame.DataFrame'>\n",
      "RangeIndex: 20640 entries, 0 to 20639\n",
      "Data columns (total 10 columns):\n",
      " #   Column              Non-Null Count  Dtype  \n",
      "---  ------              --------------  -----  \n",
      " 0   longitude           20640 non-null  float64\n",
      " 1   latitude            20640 non-null  float64\n",
      " 2   housing_median_age  20640 non-null  float64\n",
      " 3   total_rooms         20640 non-null  float64\n",
      " 4   total_bedrooms      20433 non-null  float64\n",
      " 5   population          20640 non-null  float64\n",
      " 6   households          20640 non-null  float64\n",
      " 7   median_income       20640 non-null  float64\n",
      " 8   median_house_value  20640 non-null  float64\n",
      " 9   ocean_proximity     20640 non-null  object \n",
      "dtypes: float64(9), object(1)\n",
      "memory usage: 1.6+ MB\n"
     ]
    }
   ],
   "source": [
    "dataset.info()"
   ]
  },
  {
   "cell_type": "code",
   "execution_count": 4,
   "metadata": {},
   "outputs": [
    {
     "data": {
      "text/plain": [
       "longitude               0\n",
       "latitude                0\n",
       "housing_median_age      0\n",
       "total_rooms             0\n",
       "total_bedrooms        207\n",
       "population              0\n",
       "households              0\n",
       "median_income           0\n",
       "median_house_value      0\n",
       "ocean_proximity         0\n",
       "dtype: int64"
      ]
     },
     "execution_count": 4,
     "metadata": {},
     "output_type": "execute_result"
    }
   ],
   "source": [
    "dataset.isnull().sum()"
   ]
  },
  {
   "cell_type": "code",
   "execution_count": 5,
   "metadata": {},
   "outputs": [],
   "source": [
    "dataset['total_bedrooms']=dataset['total_bedrooms'].fillna(dataset['total_bedrooms'].mean())\n"
   ]
  },
  {
   "cell_type": "code",
   "execution_count": 9,
   "metadata": {},
   "outputs": [],
   "source": [
    "def value_to_class(v):\n",
    "    cls=0\n",
    "    if v>=400000:\n",
    "        cls=1\n",
    "    elif v>=300000:\n",
    "        cls=2\n",
    "    elif v>=200000:\n",
    "        cls=3\n",
    "    elif v>=100000:\n",
    "        cls=4\n",
    "    else:\n",
    "        cls=5\n",
    "    return cls"
   ]
  },
  {
   "cell_type": "code",
   "execution_count": 10,
   "metadata": {},
   "outputs": [],
   "source": [
    "dataset['median_house_class']=dataset['median_house_value'].apply(value_to_class)"
   ]
  },
  {
   "cell_type": "code",
   "execution_count": 12,
   "metadata": {},
   "outputs": [
    {
     "data": {
      "text/plain": [
       "<1H OCEAN     9136\n",
       "INLAND        6551\n",
       "NEAR OCEAN    2658\n",
       "NEAR BAY      2290\n",
       "ISLAND           5\n",
       "Name: ocean_proximity, dtype: int64"
      ]
     },
     "execution_count": 12,
     "metadata": {},
     "output_type": "execute_result"
    }
   ],
   "source": [
    "dataset['ocean_proximity'].value_counts()"
   ]
  },
  {
   "cell_type": "code",
   "execution_count": 13,
   "metadata": {},
   "outputs": [],
   "source": [
    "from sklearn.preprocessing import LabelEncoder,OneHotEncoder\n",
    "from sklearn.compose import ColumnTransformer\n",
    "le=LabelEncoder()\n",
    "X.iloc[:,8] = le.fit_transform(X.iloc[:,8])\n",
    "ct = ColumnTransformer([(\"ocean_proximity\",OneHotEncoder(), [8])], remainder = 'passthrough')\n",
    "X = ct.fit_transform(X)\n",
    "X = X[:, 1:]"
   ]
  },
  {
   "cell_type": "code",
   "execution_count": 14,
   "metadata": {},
   "outputs": [],
   "source": [
    "from sklearn.model_selection import train_test_split\n",
    "X_train, X_test, y_train, y_test = train_test_split(X, y, test_size = 0.2, random_state = 101)"
   ]
  },
  {
   "cell_type": "code",
   "execution_count": 15,
   "metadata": {},
   "outputs": [],
   "source": [
    "from sklearn.preprocessing import StandardScaler\n",
    "sc = StandardScaler()\n",
    "X_train = sc.fit_transform(X_train)\n",
    "X_test = sc.transform(X_test)"
   ]
  },
  {
   "cell_type": "code",
   "execution_count": 16,
   "metadata": {},
   "outputs": [
    {
     "data": {
      "text/plain": [
       "(16512, 12)"
      ]
     },
     "execution_count": 16,
     "metadata": {},
     "output_type": "execute_result"
    }
   ],
   "source": [
    "X_train.shape"
   ]
  },
  {
   "cell_type": "code",
   "execution_count": 17,
   "metadata": {},
   "outputs": [],
   "source": [
    "from keras.models import Sequential\n",
    "from keras.layers import Dense\n",
    "import keras"
   ]
  },
  {
   "cell_type": "code",
   "execution_count": 18,
   "metadata": {},
   "outputs": [],
   "source": [
    "model=Sequential()\n",
    "model.add(Dense(12,input_dim=12))\n",
    "model.add(Dense(1))"
   ]
  },
  {
   "cell_type": "code",
   "execution_count": 19,
   "metadata": {},
   "outputs": [],
   "source": [
    "opt = keras.optimizers.Adam(learning_rate=0.2)\n",
    "model.compile(optimizer = opt, loss = 'mean_absolute_error')"
   ]
  },
  {
   "cell_type": "code",
   "execution_count": 20,
   "metadata": {
    "scrolled": true
   },
   "outputs": [
    {
     "name": "stdout",
     "output_type": "stream",
     "text": [
      "Epoch 1/50\n",
      "104/104 [==============================] - 0s 5ms/step - loss: 203811.1875\n",
      "Epoch 2/50\n",
      "104/104 [==============================] - 0s 4ms/step - loss: 180559.3281\n",
      "Epoch 3/50\n",
      "104/104 [==============================] - 0s 4ms/step - loss: 129631.7266\n",
      "Epoch 4/50\n",
      "104/104 [==============================] - 0s 4ms/step - loss: 68950.0859\n",
      "Epoch 5/50\n",
      "104/104 [==============================] - 0s 4ms/step - loss: 50122.5703\n",
      "Epoch 6/50\n",
      "104/104 [==============================] - 0s 4ms/step - loss: 48878.1523\n",
      "Epoch 7/50\n",
      "104/104 [==============================] - 0s 4ms/step - loss: 48643.3008\n",
      "Epoch 8/50\n",
      "104/104 [==============================] - 0s 4ms/step - loss: 48513.5000\n",
      "Epoch 9/50\n",
      "104/104 [==============================] - 0s 4ms/step - loss: 48422.0273\n",
      "Epoch 10/50\n",
      "104/104 [==============================] - 0s 4ms/step - loss: 48373.0156\n",
      "Epoch 11/50\n",
      "104/104 [==============================] - 0s 4ms/step - loss: 48391.1875\n",
      "Epoch 12/50\n",
      "104/104 [==============================] - 1s 5ms/step - loss: 48354.7109\n",
      "Epoch 13/50\n",
      "104/104 [==============================] - 0s 4ms/step - loss: 48357.8594\n",
      "Epoch 14/50\n",
      "104/104 [==============================] - 0s 4ms/step - loss: 48389.6680\n",
      "Epoch 15/50\n",
      "104/104 [==============================] - 0s 3ms/step - loss: 48328.1914\n",
      "Epoch 16/50\n",
      "104/104 [==============================] - 0s 3ms/step - loss: 48343.6758\n",
      "Epoch 17/50\n",
      "104/104 [==============================] - 0s 4ms/step - loss: 48345.7578\n",
      "Epoch 18/50\n",
      "104/104 [==============================] - 0s 4ms/step - loss: 48353.9258\n",
      "Epoch 19/50\n",
      "104/104 [==============================] - 0s 4ms/step - loss: 48328.8789\n",
      "Epoch 20/50\n",
      "104/104 [==============================] - 0s 4ms/step - loss: 48364.1445\n",
      "Epoch 21/50\n",
      "104/104 [==============================] - 0s 3ms/step - loss: 48331.7578\n",
      "Epoch 22/50\n",
      "104/104 [==============================] - 0s 4ms/step - loss: 48349.7344\n",
      "Epoch 23/50\n",
      "104/104 [==============================] - 0s 4ms/step - loss: 48388.6484\n",
      "Epoch 24/50\n",
      "104/104 [==============================] - 0s 5ms/step - loss: 48355.3086\n",
      "Epoch 25/50\n",
      "104/104 [==============================] - 0s 3ms/step - loss: 48349.2461\n",
      "Epoch 26/50\n",
      "104/104 [==============================] - 0s 4ms/step - loss: 48338.4453\n",
      "Epoch 27/50\n",
      "104/104 [==============================] - 0s 4ms/step - loss: 48330.7383\n",
      "Epoch 28/50\n",
      "104/104 [==============================] - 0s 3ms/step - loss: 48375.7539\n",
      "Epoch 29/50\n",
      "104/104 [==============================] - 0s 3ms/step - loss: 48366.6562\n",
      "Epoch 30/50\n",
      "104/104 [==============================] - 0s 3ms/step - loss: 48334.3594\n",
      "Epoch 31/50\n",
      "104/104 [==============================] - 0s 4ms/step - loss: 48359.7109\n",
      "Epoch 32/50\n",
      "104/104 [==============================] - 0s 4ms/step - loss: 48368.4102\n",
      "Epoch 33/50\n",
      "104/104 [==============================] - 0s 4ms/step - loss: 48360.3945\n",
      "Epoch 34/50\n",
      "104/104 [==============================] - 0s 4ms/step - loss: 48337.7969\n",
      "Epoch 35/50\n",
      "104/104 [==============================] - 0s 4ms/step - loss: 48340.2891\n",
      "Epoch 36/50\n",
      "104/104 [==============================] - 0s 4ms/step - loss: 48365.1445\n",
      "Epoch 37/50\n",
      "104/104 [==============================] - 0s 4ms/step - loss: 48349.2695\n",
      "Epoch 38/50\n",
      "104/104 [==============================] - 0s 4ms/step - loss: 48335.6016\n",
      "Epoch 39/50\n",
      "104/104 [==============================] - 0s 4ms/step - loss: 48353.6211\n",
      "Epoch 40/50\n",
      "104/104 [==============================] - 0s 4ms/step - loss: 48354.7109\n",
      "Epoch 41/50\n",
      "104/104 [==============================] - 0s 4ms/step - loss: 48359.5586\n",
      "Epoch 42/50\n",
      "104/104 [==============================] - 0s 5ms/step - loss: 48384.0234\n",
      "Epoch 43/50\n",
      "104/104 [==============================] - 0s 3ms/step - loss: 48320.9453\n",
      "Epoch 44/50\n",
      "104/104 [==============================] - 0s 4ms/step - loss: 48371.0469\n",
      "Epoch 45/50\n",
      "104/104 [==============================] - 0s 3ms/step - loss: 48326.7539\n",
      "Epoch 46/50\n",
      "104/104 [==============================] - 0s 4ms/step - loss: 48330.1289\n",
      "Epoch 47/50\n",
      "104/104 [==============================] - 0s 3ms/step - loss: 48347.7500\n",
      "Epoch 48/50\n",
      "104/104 [==============================] - 0s 3ms/step - loss: 48353.8945\n",
      "Epoch 49/50\n",
      "104/104 [==============================] - 1s 5ms/step - loss: 48316.2930\n",
      "Epoch 50/50\n",
      "104/104 [==============================] - 1s 5ms/step - loss: 48326.5430\n"
     ]
    },
    {
     "data": {
      "text/plain": [
       "<tensorflow.python.keras.callbacks.History at 0x7fea301add60>"
      ]
     },
     "execution_count": 20,
     "metadata": {},
     "output_type": "execute_result"
    }
   ],
   "source": [
    "model.fit(X_train, y_train, batch_size = 160, epochs = 50)"
   ]
  },
  {
   "cell_type": "code",
   "execution_count": 21,
   "metadata": {},
   "outputs": [],
   "source": [
    "y_pred=model.predict(X_test)"
   ]
  },
  {
   "cell_type": "code",
   "execution_count": 22,
   "metadata": {},
   "outputs": [
    {
     "data": {
      "text/plain": [
       "16086    406200.0\n",
       "8816     500001.0\n",
       "7175     122900.0\n",
       "16714    209100.0\n",
       "14491    500001.0\n",
       "           ...   \n",
       "5817     260500.0\n",
       "3127      68500.0\n",
       "15957    246200.0\n",
       "843      254400.0\n",
       "1659     329400.0\n",
       "Name: median_house_value, Length: 4128, dtype: float64"
      ]
     },
     "execution_count": 22,
     "metadata": {},
     "output_type": "execute_result"
    }
   ],
   "source": [
    "y_test"
   ]
  },
  {
   "cell_type": "code",
   "execution_count": 23,
   "metadata": {},
   "outputs": [
    {
     "data": {
      "text/plain": [
       "array([[307776.72],\n",
       "       [537154.75],\n",
       "       [149946.27],\n",
       "       ...,\n",
       "       [241709.53],\n",
       "       [243053.2 ],\n",
       "       [334759.7 ]], dtype=float32)"
      ]
     },
     "execution_count": 23,
     "metadata": {},
     "output_type": "execute_result"
    }
   ],
   "source": [
    "y_pred"
   ]
  },
  {
   "cell_type": "code",
   "execution_count": 24,
   "metadata": {},
   "outputs": [],
   "source": [
    "# from sklearn.linear_model import LinearRegression\n",
    "# regressor = LinearRegression()\n",
    "# regressor.fit(X_train, y_train)\n",
    "# y_pred = regressor.predict(X_test)\n",
    "# from sklearn.metrics import confusion_matrix\n",
    "# cm = confusion_matrix(y_test.to_numpy(), y_pred)\n",
    "# print(\"Accuracy = \",(cm[0,0]+cm[1,1])/(cm.sum()))"
   ]
  }
 ],
 "metadata": {
  "kernelspec": {
   "display_name": "Python 3 (ipykernel)",
   "language": "python",
   "name": "python3"
  },
  "language_info": {
   "codemirror_mode": {
    "name": "ipython",
    "version": 3
   },
   "file_extension": ".py",
   "mimetype": "text/x-python",
   "name": "python",
   "nbconvert_exporter": "python",
   "pygments_lexer": "ipython3",
   "version": "3.9.12"
  }
 },
 "nbformat": 4,
 "nbformat_minor": 4
}
