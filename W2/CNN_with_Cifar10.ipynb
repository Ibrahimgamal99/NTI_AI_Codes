{
  "cells": [
    {
      "cell_type": "code",
      "execution_count": 1,
      "metadata": {
        "id": "a91PnL3s0OUu"
      },
      "outputs": [],
      "source": [
        "import numpy as np\n",
        "import matplotlib.pyplot as plt\n",
        "from keras.models import Sequential\n",
        "from keras.layers import Dense,Conv2D, MaxPooling2D, Dropout, Flatten\n",
        "from keras.utils import to_categorical\n",
        "from keras.datasets import cifar10\n",
        "import keras"
      ]
    },
    {
      "cell_type": "code",
      "execution_count": 2,
      "metadata": {
        "id": "_OovKkQf0RLF"
      },
      "outputs": [],
      "source": [
        "(x_train, y_train), (x_test, y_test) = cifar10.load_data()"
      ]
    },
    {
      "cell_type": "code",
      "source": [
        "y_train = to_categorical(y_train,10)\n",
        "y_test  = to_categorical(y_test,10)"
      ],
      "metadata": {
        "id": "pX4Y48P4Nuqi"
      },
      "execution_count": 3,
      "outputs": []
    },
    {
      "cell_type": "code",
      "execution_count": 4,
      "metadata": {
        "id": "UGv08W7B0S6A"
      },
      "outputs": [],
      "source": [
        "x_train = (x_train)/255\n",
        "x_test = (x_test)/255"
      ]
    },
    {
      "cell_type": "code",
      "source": [
        "y_test[0].shape"
      ],
      "metadata": {
        "colab": {
          "base_uri": "https://localhost:8080/"
        },
        "id": "MGd-D-S7Oauf",
        "outputId": "bf05c28c-95f4-4c86-dc48-c691c316b533"
      },
      "execution_count": 5,
      "outputs": [
        {
          "output_type": "execute_result",
          "data": {
            "text/plain": [
              "(10,)"
            ]
          },
          "metadata": {},
          "execution_count": 5
        }
      ]
    },
    {
      "cell_type": "code",
      "execution_count": 6,
      "metadata": {
        "colab": {
          "base_uri": "https://localhost:8080/"
        },
        "id": "dFXq5jCD0Uys",
        "outputId": "aede1524-0460-4c37-aedd-8a22711b6839"
      },
      "outputs": [
        {
          "output_type": "stream",
          "name": "stdout",
          "text": [
            "Model: \"sequential\"\n",
            "_________________________________________________________________\n",
            " Layer (type)                Output Shape              Param #   \n",
            "=================================================================\n",
            " conv2d (Conv2D)             (None, 32, 32, 32)        896       \n",
            "                                                                 \n",
            " conv2d_1 (Conv2D)           (None, 32, 32, 64)        18496     \n",
            "                                                                 \n",
            " max_pooling2d (MaxPooling2D  (None, 16, 16, 64)       0         \n",
            " )                                                               \n",
            "                                                                 \n",
            " conv2d_2 (Conv2D)           (None, 14, 14, 32)        18464     \n",
            "                                                                 \n",
            " conv2d_3 (Conv2D)           (None, 12, 12, 64)        18496     \n",
            "                                                                 \n",
            " max_pooling2d_1 (MaxPooling  (None, 6, 6, 64)         0         \n",
            " 2D)                                                             \n",
            "                                                                 \n",
            " dropout (Dropout)           (None, 6, 6, 64)          0         \n",
            "                                                                 \n",
            " flatten (Flatten)           (None, 2304)              0         \n",
            "                                                                 \n",
            " dense (Dense)               (None, 512)               1180160   \n",
            "                                                                 \n",
            " dropout_1 (Dropout)         (None, 512)               0         \n",
            "                                                                 \n",
            " dense_1 (Dense)             (None, 256)               131328    \n",
            "                                                                 \n",
            " dropout_2 (Dropout)         (None, 256)               0         \n",
            "                                                                 \n",
            " dense_2 (Dense)             (None, 10)                2570      \n",
            "                                                                 \n",
            "=================================================================\n",
            "Total params: 1,370,410\n",
            "Trainable params: 1,370,410\n",
            "Non-trainable params: 0\n",
            "_________________________________________________________________\n"
          ]
        }
      ],
      "source": [
        "model=Sequential()\n",
        "model.add(Conv2D(filters=32, kernel_size=3,padding='same', activation='relu', input_shape=(32,32,3)))\n",
        "model.add(Conv2D(filters=64, kernel_size=3,padding='same', activation='relu'))\n",
        "model.add(MaxPooling2D(pool_size=(2, 2)))\n",
        "model.add(Conv2D(filters=32, kernel_size=3,activation='relu'))\n",
        "model.add(Conv2D(filters=64, kernel_size=3, activation='relu'))\n",
        "model.add(MaxPooling2D(pool_size=(2, 2)))\n",
        "model.add(Dropout(0.3))\n",
        "model.add(Flatten())\n",
        "model.add(Dense(512, activation='relu'))\n",
        "model.add(Dropout(0.3))\n",
        "model.add(Dense(256, activation='relu'))\n",
        "model.add(Dropout(0.5))\n",
        "model.add(Dense(10, activation='softmax'))\n",
        "model.compile(optimizer = 'adam', loss = 'categorical_crossentropy', metrics = ['accuracy']) \n",
        "model.summary()"
      ]
    },
    {
      "cell_type": "code",
      "execution_count": 7,
      "metadata": {
        "colab": {
          "base_uri": "https://localhost:8080/"
        },
        "id": "hq7YcmtB0pN2",
        "outputId": "87123502-4cab-4d9a-bd8e-197c541421f4"
      },
      "outputs": [
        {
          "output_type": "stream",
          "name": "stdout",
          "text": [
            "Epoch 1/50\n",
            "4167/4167 [==============================] - 37s 7ms/step - loss: 1.5897 - accuracy: 0.4162 - val_loss: 1.2683 - val_accuracy: 0.5462\n",
            "Epoch 2/50\n",
            "4167/4167 [==============================] - 26s 6ms/step - loss: 1.2166 - accuracy: 0.5699 - val_loss: 1.0356 - val_accuracy: 0.6418\n",
            "Epoch 3/50\n",
            "4167/4167 [==============================] - 28s 7ms/step - loss: 1.0683 - accuracy: 0.6283 - val_loss: 0.9187 - val_accuracy: 0.6829\n",
            "Epoch 4/50\n",
            "4167/4167 [==============================] - 27s 6ms/step - loss: 0.9831 - accuracy: 0.6601 - val_loss: 0.8856 - val_accuracy: 0.6944\n",
            "Epoch 5/50\n",
            "4167/4167 [==============================] - 27s 6ms/step - loss: 0.9196 - accuracy: 0.6821 - val_loss: 0.8930 - val_accuracy: 0.6960\n",
            "Epoch 6/50\n",
            "4167/4167 [==============================] - 27s 7ms/step - loss: 0.8750 - accuracy: 0.6986 - val_loss: 0.8536 - val_accuracy: 0.7052\n",
            "Epoch 7/50\n",
            "4167/4167 [==============================] - 27s 6ms/step - loss: 0.8350 - accuracy: 0.7127 - val_loss: 0.8700 - val_accuracy: 0.7062\n",
            "Epoch 8/50\n",
            "4167/4167 [==============================] - 27s 7ms/step - loss: 0.8027 - accuracy: 0.7246 - val_loss: 0.8087 - val_accuracy: 0.7251\n",
            "Epoch 9/50\n",
            "4167/4167 [==============================] - 28s 7ms/step - loss: 0.7787 - accuracy: 0.7360 - val_loss: 0.8465 - val_accuracy: 0.7142\n",
            "Epoch 10/50\n",
            "4167/4167 [==============================] - 27s 7ms/step - loss: 0.7530 - accuracy: 0.7427 - val_loss: 0.7982 - val_accuracy: 0.7262\n",
            "Epoch 11/50\n",
            "4167/4167 [==============================] - 27s 7ms/step - loss: 0.7383 - accuracy: 0.7473 - val_loss: 0.8274 - val_accuracy: 0.7232\n",
            "Epoch 12/50\n",
            "4167/4167 [==============================] - 27s 6ms/step - loss: 0.7139 - accuracy: 0.7572 - val_loss: 0.8124 - val_accuracy: 0.7264\n",
            "Epoch 13/50\n",
            "4167/4167 [==============================] - 27s 7ms/step - loss: 0.6966 - accuracy: 0.7639 - val_loss: 0.7929 - val_accuracy: 0.7400\n",
            "Epoch 14/50\n",
            "4167/4167 [==============================] - 27s 6ms/step - loss: 0.6762 - accuracy: 0.7714 - val_loss: 0.8228 - val_accuracy: 0.7236\n",
            "Epoch 15/50\n",
            "4167/4167 [==============================] - 27s 7ms/step - loss: 0.6709 - accuracy: 0.7751 - val_loss: 0.8136 - val_accuracy: 0.7296\n",
            "Epoch 16/50\n",
            "4167/4167 [==============================] - 28s 7ms/step - loss: 0.6559 - accuracy: 0.7791 - val_loss: 0.7993 - val_accuracy: 0.7289\n",
            "Epoch 17/50\n",
            "4167/4167 [==============================] - 28s 7ms/step - loss: 0.6523 - accuracy: 0.7788 - val_loss: 0.7819 - val_accuracy: 0.7447\n",
            "Epoch 18/50\n",
            "4167/4167 [==============================] - 29s 7ms/step - loss: 0.6394 - accuracy: 0.7856 - val_loss: 0.7955 - val_accuracy: 0.7447\n",
            "Epoch 19/50\n",
            "4167/4167 [==============================] - 28s 7ms/step - loss: 0.6192 - accuracy: 0.7920 - val_loss: 0.7872 - val_accuracy: 0.7411\n",
            "Epoch 20/50\n",
            "4167/4167 [==============================] - 28s 7ms/step - loss: 0.6097 - accuracy: 0.7958 - val_loss: 0.7770 - val_accuracy: 0.7460\n",
            "Epoch 21/50\n",
            "4167/4167 [==============================] - 28s 7ms/step - loss: 0.6002 - accuracy: 0.7987 - val_loss: 0.8460 - val_accuracy: 0.7279\n",
            "Epoch 22/50\n",
            "4167/4167 [==============================] - 28s 7ms/step - loss: 0.6001 - accuracy: 0.7993 - val_loss: 0.8079 - val_accuracy: 0.7403\n",
            "Epoch 23/50\n",
            "4167/4167 [==============================] - 26s 6ms/step - loss: 0.5866 - accuracy: 0.8037 - val_loss: 0.8144 - val_accuracy: 0.7409\n",
            "Epoch 24/50\n",
            "4167/4167 [==============================] - 27s 6ms/step - loss: 0.5861 - accuracy: 0.8064 - val_loss: 0.8233 - val_accuracy: 0.7374\n",
            "Epoch 25/50\n",
            "4167/4167 [==============================] - 27s 6ms/step - loss: 0.5828 - accuracy: 0.8073 - val_loss: 0.8321 - val_accuracy: 0.7348\n",
            "Epoch 26/50\n",
            "4167/4167 [==============================] - 27s 7ms/step - loss: 0.5665 - accuracy: 0.8131 - val_loss: 0.8074 - val_accuracy: 0.7378\n",
            "Epoch 27/50\n",
            "4167/4167 [==============================] - 30s 7ms/step - loss: 0.5627 - accuracy: 0.8112 - val_loss: 0.8377 - val_accuracy: 0.7349\n",
            "Epoch 28/50\n",
            "4167/4167 [==============================] - 28s 7ms/step - loss: 0.5568 - accuracy: 0.8173 - val_loss: 0.8209 - val_accuracy: 0.7300\n",
            "Epoch 29/50\n",
            "4167/4167 [==============================] - 28s 7ms/step - loss: 0.5447 - accuracy: 0.8207 - val_loss: 0.8411 - val_accuracy: 0.7422\n",
            "Epoch 30/50\n",
            "4167/4167 [==============================] - 28s 7ms/step - loss: 0.5516 - accuracy: 0.8186 - val_loss: 0.8370 - val_accuracy: 0.7423\n",
            "Epoch 31/50\n",
            "4167/4167 [==============================] - 28s 7ms/step - loss: 0.5536 - accuracy: 0.8185 - val_loss: 0.8280 - val_accuracy: 0.7377\n",
            "Epoch 32/50\n",
            "4167/4167 [==============================] - 28s 7ms/step - loss: 0.5457 - accuracy: 0.8231 - val_loss: 0.8071 - val_accuracy: 0.7446\n",
            "Epoch 33/50\n",
            "4167/4167 [==============================] - 28s 7ms/step - loss: 0.5304 - accuracy: 0.8275 - val_loss: 0.8490 - val_accuracy: 0.7259\n",
            "Epoch 34/50\n",
            "4167/4167 [==============================] - 31s 7ms/step - loss: 0.5312 - accuracy: 0.8278 - val_loss: 0.8843 - val_accuracy: 0.7283\n",
            "Epoch 35/50\n",
            "4167/4167 [==============================] - 28s 7ms/step - loss: 0.5291 - accuracy: 0.8282 - val_loss: 0.8200 - val_accuracy: 0.7405\n",
            "Epoch 36/50\n",
            "4167/4167 [==============================] - 28s 7ms/step - loss: 0.5190 - accuracy: 0.8312 - val_loss: 0.8439 - val_accuracy: 0.7354\n",
            "Epoch 37/50\n",
            "4167/4167 [==============================] - 28s 7ms/step - loss: 0.5200 - accuracy: 0.8348 - val_loss: 0.8432 - val_accuracy: 0.7407\n",
            "Epoch 38/50\n",
            "4167/4167 [==============================] - 28s 7ms/step - loss: 0.5138 - accuracy: 0.8339 - val_loss: 0.8174 - val_accuracy: 0.7388\n",
            "Epoch 39/50\n",
            "4167/4167 [==============================] - 28s 7ms/step - loss: 0.5130 - accuracy: 0.8355 - val_loss: 0.8193 - val_accuracy: 0.7379\n",
            "Epoch 40/50\n",
            "4167/4167 [==============================] - 28s 7ms/step - loss: 0.5095 - accuracy: 0.8351 - val_loss: 0.8570 - val_accuracy: 0.7405\n",
            "Epoch 41/50\n",
            "4167/4167 [==============================] - 28s 7ms/step - loss: 0.5099 - accuracy: 0.8352 - val_loss: 0.8466 - val_accuracy: 0.7422\n",
            "Epoch 42/50\n",
            "4167/4167 [==============================] - 28s 7ms/step - loss: 0.5030 - accuracy: 0.8382 - val_loss: 0.8455 - val_accuracy: 0.7379\n",
            "Epoch 43/50\n",
            "4167/4167 [==============================] - 28s 7ms/step - loss: 0.4999 - accuracy: 0.8379 - val_loss: 0.9535 - val_accuracy: 0.7305\n",
            "Epoch 44/50\n",
            "4167/4167 [==============================] - 28s 7ms/step - loss: 0.5046 - accuracy: 0.8385 - val_loss: 0.8312 - val_accuracy: 0.7342\n",
            "Epoch 45/50\n",
            "4167/4167 [==============================] - 27s 7ms/step - loss: 0.5045 - accuracy: 0.8400 - val_loss: 0.8233 - val_accuracy: 0.7451\n",
            "Epoch 46/50\n",
            "4167/4167 [==============================] - 30s 7ms/step - loss: 0.5007 - accuracy: 0.8413 - val_loss: 0.8699 - val_accuracy: 0.7446\n",
            "Epoch 47/50\n",
            "4167/4167 [==============================] - 28s 7ms/step - loss: 0.4992 - accuracy: 0.8419 - val_loss: 0.8957 - val_accuracy: 0.7343\n",
            "Epoch 48/50\n",
            "4167/4167 [==============================] - 28s 7ms/step - loss: 0.4956 - accuracy: 0.8412 - val_loss: 0.8620 - val_accuracy: 0.7451\n",
            "Epoch 49/50\n",
            "4167/4167 [==============================] - 29s 7ms/step - loss: 0.4885 - accuracy: 0.8445 - val_loss: 0.8953 - val_accuracy: 0.7356\n",
            "Epoch 50/50\n",
            "4167/4167 [==============================] - 28s 7ms/step - loss: 0.4848 - accuracy: 0.8483 - val_loss: 0.8673 - val_accuracy: 0.7420\n"
          ]
        }
      ],
      "source": [
        "res = model.fit(x_train,\n",
        "          y_train,\n",
        "          batch_size=12,\n",
        "          epochs = 50,\n",
        "          validation_data = (x_test,y_test))"
      ]
    },
    {
      "cell_type": "code",
      "execution_count": 8,
      "metadata": {
        "id": "drKpBav31s0g",
        "colab": {
          "base_uri": "https://localhost:8080/",
          "height": 447
        },
        "outputId": "59163a9d-997a-40de-cb55-37287aef5deb"
      },
      "outputs": [
        {
          "output_type": "execute_result",
          "data": {
            "text/plain": [
              "[<matplotlib.lines.Line2D at 0x7fa17bfd4610>]"
            ]
          },
          "metadata": {},
          "execution_count": 8
        },
        {
          "output_type": "display_data",
          "data": {
            "text/plain": [
              "<Figure size 640x480 with 1 Axes>"
            ],
            "image/png": "[encoded data removed]"
          },
          "metadata": {}
        }
      ],
      "source": [
        "plt.plot(res.history['val_accuracy'])\n",
        "plt.plot(res.history['accuracy'])"
      ]
    },
    {
      "cell_type": "code",
      "source": [],
      "metadata": {
        "id": "4Z-B2f0GikKH"
      },
      "execution_count": 8,
      "outputs": []
    }
  ],
  "metadata": {
    "accelerator": "GPU",
    "colab": {
      "provenance": []
    },
    "gpuClass": "standard",
    "kernelspec": {
      "display_name": "Python 3",
      "name": "python3"
    },
    "language_info": {
      "name": "python"
    }
  },
  "nbformat": 4,
  "nbformat_minor": 0
}