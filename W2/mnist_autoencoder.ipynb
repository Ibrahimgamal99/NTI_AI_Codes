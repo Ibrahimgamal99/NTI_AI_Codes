{
  "cells": [
    {
      "cell_type": "code",
      "execution_count": null,
      "metadata": {
        "id": "a91PnL3s0OUu"
      },
      "outputs": [],
      "source": [
        "import numpy as np\n",
        "import matplotlib.pyplot as plt\n",
        "from keras.models import Sequential\n",
        "from keras.layers import Dense\n",
        "from keras.datasets import mnist\n",
        "import keras"
      ]
    },
    {
      "cell_type": "code",
      "execution_count": null,
      "metadata": {
        "id": "_OovKkQf0RLF"
      },
      "outputs": [],
      "source": [
        "(x_train, _), (x_test, _) = mnist.load_data()"
      ]
    },
    {
      "cell_type": "code",
      "execution_count": null,
      "metadata": {
        "id": "UGv08W7B0S6A"
      },
      "outputs": [],
      "source": [
        "x_train = x_train.reshape(-1,28*28)/255\n",
        "x_test = x_test.reshape(-1,28*28)/255"
      ]
    },
    {
      "cell_type": "code",
      "execution_count": null,
      "metadata": {
        "colab": {
          "base_uri": "https://localhost:8080/"
        },
        "id": "dFXq5jCD0Uys",
        "outputId": "fa792292-9d3b-4217-fc13-2b2f43b5932b"
      },
      "outputs": [
        {
          "output_type": "stream",
          "name": "stdout",
          "text": [
            "Model: \"sequential\"\n",
            "_________________________________________________________________\n",
            " Layer (type)                Output Shape              Param #   \n",
            "=================================================================\n",
            " dense (Dense)               (None, 256)               200960    \n",
            "                                                                 \n",
            " dense_1 (Dense)             (None, 128)               32896     \n",
            "                                                                 \n",
            " dense_2 (Dense)             (None, 64)                8256      \n",
            "                                                                 \n",
            " dense_3 (Dense)             (None, 128)               8320      \n",
            "                                                                 \n",
            " dense_4 (Dense)             (None, 256)               33024     \n",
            "                                                                 \n",
            " dense_5 (Dense)             (None, 784)               201488    \n",
            "                                                                 \n",
            "=================================================================\n",
            "Total params: 484,944\n",
            "Trainable params: 484,944\n",
            "Non-trainable params: 0\n",
            "_________________________________________________________________\n"
          ]
        }
      ],
      "source": [
        "model=Sequential()\n",
        "model.add(keras.Input(shape=(28*28,)))\n",
        "model.add(Dense(256,input_shape=(28*28,),activation='ReLU'))\n",
        "model.add(Dense(128,input_shape=(28*28,),activation='ReLU'))\n",
        "model.add(Dense(64,input_shape=(28*28,),activation='ReLU'))\n",
        "model.add(Dense(128,input_shape=(28*28,),activation='ReLU'))\n",
        "model.add(Dense(256,input_shape=(28*28,),activation='ReLU'))\n",
        "model.add(Dense(28*28,activation='softmax'))#output\n",
        "model.compile(optimizer = 'adam', loss = 'binary_crossentropy') \n",
        "model.summary()"
      ]
    },
    {
      "cell_type": "code",
      "execution_count": null,
      "metadata": {
        "colab": {
          "base_uri": "https://localhost:8080/"
        },
        "id": "hq7YcmtB0pN2",
        "outputId": "b6f92ffb-d0f0-4d8b-a243-ec663936853f"
      },
      "outputs": [
        {
          "output_type": "stream",
          "name": "stdout",
          "text": [
            "Epoch 1/32\n",
            "3750/3750 [==============================] - 34s 8ms/step - loss: 0.1216 - val_loss: 0.0942\n",
            "Epoch 2/32\n",
            "3750/3750 [==============================] - 22s 6ms/step - loss: 0.0919 - val_loss: 0.0883\n",
            "Epoch 3/32\n",
            "3750/3750 [==============================] - 22s 6ms/step - loss: 0.0865 - val_loss: 0.0849\n",
            "Epoch 4/32\n",
            "3750/3750 [==============================] - 20s 5ms/step - loss: 0.0835 - val_loss: 0.0818\n",
            "Epoch 5/32\n",
            "3750/3750 [==============================] - 22s 6ms/step - loss: 0.0817 - val_loss: 0.0800\n",
            "Epoch 6/32\n",
            "3750/3750 [==============================] - 23s 6ms/step - loss: 0.0803 - val_loss: 0.0794\n",
            "Epoch 7/32\n",
            "3750/3750 [==============================] - 21s 6ms/step - loss: 0.0792 - val_loss: 0.0784\n",
            "Epoch 8/32\n",
            "3750/3750 [==============================] - 20s 5ms/step - loss: 0.0784 - val_loss: 0.0773\n",
            "Epoch 9/32\n",
            "3750/3750 [==============================] - 22s 6ms/step - loss: 0.0776 - val_loss: 0.0773\n",
            "Epoch 10/32\n",
            "3750/3750 [==============================] - 20s 5ms/step - loss: 0.0770 - val_loss: 0.0761\n",
            "Epoch 11/32\n",
            "3750/3750 [==============================] - 21s 6ms/step - loss: 0.0765 - val_loss: 0.0766\n",
            "Epoch 12/32\n",
            "3750/3750 [==============================] - 21s 6ms/step - loss: 0.0760 - val_loss: 0.0752\n",
            "Epoch 13/32\n",
            "3750/3750 [==============================] - 21s 5ms/step - loss: 0.0756 - val_loss: 0.0746\n",
            "Epoch 14/32\n",
            "3750/3750 [==============================] - 22s 6ms/step - loss: 0.0753 - val_loss: 0.0747\n",
            "Epoch 15/32\n",
            "3750/3750 [==============================] - 21s 6ms/step - loss: 0.0750 - val_loss: 0.0747\n",
            "Epoch 16/32\n",
            "3750/3750 [==============================] - 21s 6ms/step - loss: 0.0747 - val_loss: 0.0741\n",
            "Epoch 17/32\n",
            "3750/3750 [==============================] - 21s 6ms/step - loss: 0.0744 - val_loss: 0.0740\n",
            "Epoch 18/32\n",
            "3750/3750 [==============================] - 22s 6ms/step - loss: 0.0742 - val_loss: 0.0737\n",
            "Epoch 19/32\n",
            "3750/3750 [==============================] - 21s 6ms/step - loss: 0.0740 - val_loss: 0.0743\n",
            "Epoch 20/32\n",
            "3750/3750 [==============================] - 21s 6ms/step - loss: 0.0738 - val_loss: 0.0738\n",
            "Epoch 21/32\n",
            "3750/3750 [==============================] - 20s 5ms/step - loss: 0.0736 - val_loss: 0.0736\n",
            "Epoch 22/32\n",
            "3750/3750 [==============================] - 22s 6ms/step - loss: 0.0735 - val_loss: 0.0729\n",
            "Epoch 23/32\n",
            "3750/3750 [==============================] - 20s 5ms/step - loss: 0.0733 - val_loss: 0.0730\n",
            "Epoch 24/32\n",
            "3750/3750 [==============================] - 21s 6ms/step - loss: 0.0732 - val_loss: 0.0733\n",
            "Epoch 25/32\n",
            "3750/3750 [==============================] - 21s 6ms/step - loss: 0.0731 - val_loss: 0.0731\n",
            "Epoch 26/32\n",
            "3750/3750 [==============================] - 22s 6ms/step - loss: 0.0730 - val_loss: 0.0730\n",
            "Epoch 27/32\n",
            "3750/3750 [==============================] - 22s 6ms/step - loss: 0.0729 - val_loss: 0.0726\n",
            "Epoch 28/32\n",
            "3750/3750 [==============================] - 21s 5ms/step - loss: 0.0728 - val_loss: 0.0721\n",
            "Epoch 29/32\n",
            "3750/3750 [==============================] - 20s 5ms/step - loss: 0.0727 - val_loss: 0.0724\n",
            "Epoch 30/32\n",
            "3750/3750 [==============================] - 21s 6ms/step - loss: 0.0727 - val_loss: 0.0726\n",
            "Epoch 31/32\n",
            "3750/3750 [==============================] - 22s 6ms/step - loss: 0.0725 - val_loss: 0.0734\n",
            "Epoch 32/32\n",
            "3750/3750 [==============================] - 26s 7ms/step - loss: 0.0725 - val_loss: 0.0726\n"
          ]
        }
      ],
      "source": [
        "res = model.fit(x_train,\n",
        "          x_train,\n",
        "          batch_size=16,\n",
        "          epochs = 32,\n",
        "          validation_data = (x_test,x_test))"
      ]
    },
    {
      "cell_type": "code",
      "source": [
        "prd=model.predict(x_test)"
      ],
      "metadata": {
        "colab": {
          "base_uri": "https://localhost:8080/"
        },
        "id": "ageThar3jtNA",
        "outputId": "a0502230-6716-4751-b719-9b3613834f7c"
      },
      "execution_count": null,
      "outputs": [
        {
          "output_type": "stream",
          "name": "stdout",
          "text": [
            "313/313 [==============================] - 1s 2ms/step\n"
          ]
        }
      ]
    },
    {
      "cell_type": "code",
      "execution_count": null,
      "metadata": {
        "colab": {
          "base_uri": "https://localhost:8080/",
          "height": 283
        },
        "id": "l4EUHLQ4YLS9",
        "outputId": "8a291212-e844-4269-8af4-8105f9b26c23"
      },
      "outputs": [
        {
          "output_type": "execute_result",
          "data": {
            "text/plain": [
              "<matplotlib.image.AxesImage at 0x7f1fa83ba400>"
            ]
          },
          "metadata": {},
          "execution_count": 11
        },
        {
          "output_type": "display_data",
          "data": {
            "text/plain": [
              "<Figure size 432x288 with 1 Axes>"
            ],
            "image/png": "[encoded data removed]"
          },
          "metadata": {
            "needs_background": "light"
          }
        }
      ],
      "source": [
        "plt.imshow(x_test[34].reshape(28, 28),cmap='gray')"
      ]
    },
    {
      "cell_type": "code",
      "execution_count": null,
      "metadata": {
        "colab": {
          "base_uri": "https://localhost:8080/",
          "height": 283
        },
        "id": "5lssYwlEXPlL",
        "outputId": "a720b528-c5a2-4cc3-9117-9620986cc02c"
      },
      "outputs": [
        {
          "output_type": "execute_result",
          "data": {
            "text/plain": [
              "<matplotlib.image.AxesImage at 0x7f1fa8294af0>"
            ]
          },
          "metadata": {},
          "execution_count": 12
        },
        {
          "output_type": "display_data",
          "data": {
            "text/plain": [
              "<Figure size 432x288 with 1 Axes>"
            ],
            "image/png": "[encoded data removed]"
          },
          "metadata": {
            "needs_background": "light"
          }
        }
      ],
      "source": [
        "plt.imshow(prd[34].reshape(28, 28),cmap='gray')"
      ]
    },
    {
      "cell_type": "code",
      "execution_count": null,
      "metadata": {
        "id": "cVhjsRxZMfqg"
      },
      "outputs": [],
      "source": []
    }
  ],
  "metadata": {
    "accelerator": "GPU",
    "colab": {
      "provenance": []
    },
    "gpuClass": "standard",
    "kernelspec": {
      "display_name": "Python 3",
      "name": "python3"
    },
    "language_info": {
      "name": "python"
    }
  },
  "nbformat": 4,
  "nbformat_minor": 0
}