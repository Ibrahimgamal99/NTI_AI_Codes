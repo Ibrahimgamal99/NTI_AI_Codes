{
  "cells": [
    {
      "cell_type": "code",
      "execution_count": 1,
      "metadata": {
        "id": "a91PnL3s0OUu"
      },
      "outputs": [],
      "source": [
        "import numpy as np\n",
        "import matplotlib.pyplot as plt\n",
        "from keras.models import Sequential\n",
        "from keras.layers import Dense,Conv2D, AveragePooling2D, Dropout, Flatten\n",
        "from keras.utils import to_categorical\n",
        "from keras.datasets import mnist\n",
        "import cv2 as cv\n",
        "import keras"
      ]
    },
    {
      "cell_type": "code",
      "execution_count": 2,
      "metadata": {
        "id": "_OovKkQf0RLF"
      },
      "outputs": [],
      "source": [
        "(x_train, y_train), (x_test, y_test) = mnist.load_data()"
      ]
    },
    {
      "cell_type": "code",
      "source": [
        "y_train = to_categorical(y_train,10)\n",
        "y_test  = to_categorical(y_test,10)"
      ],
      "metadata": {
        "id": "pX4Y48P4Nuqi"
      },
      "execution_count": 3,
      "outputs": []
    },
    {
      "cell_type": "code",
      "source": [
        "x_train.shape"
      ],
      "metadata": {
        "colab": {
          "base_uri": "https://localhost:8080/"
        },
        "id": "1imWCMI8COGi",
        "outputId": "6aec9707-9a5d-4237-d0c3-46b357015653"
      },
      "execution_count": 4,
      "outputs": [
        {
          "output_type": "execute_result",
          "data": {
            "text/plain": [
              "(60000, 28, 28)"
            ]
          },
          "metadata": {},
          "execution_count": 4
        }
      ]
    },
    {
      "cell_type": "code",
      "execution_count": 5,
      "metadata": {
        "id": "UGv08W7B0S6A"
      },
      "outputs": [],
      "source": [
        "x_train = (x_train)/255\n",
        "x_test = (x_test)/255"
      ]
    },
    {
      "cell_type": "code",
      "execution_count": 6,
      "metadata": {
        "colab": {
          "base_uri": "https://localhost:8080/"
        },
        "id": "dFXq5jCD0Uys",
        "outputId": "4e1572b1-75e3-4d46-a2ea-a46092e59143"
      },
      "outputs": [
        {
          "output_type": "stream",
          "name": "stdout",
          "text": [
            "Model: \"sequential\"\n",
            "_________________________________________________________________\n",
            " Layer (type)                Output Shape              Param #   \n",
            "=================================================================\n",
            " conv2d (Conv2D)             (None, 28, 28, 6)         156       \n",
            "                                                                 \n",
            " average_pooling2d (AverageP  (None, 14, 14, 6)        0         \n",
            " ooling2D)                                                       \n",
            "                                                                 \n",
            " conv2d_1 (Conv2D)           (None, 10, 10, 16)        2416      \n",
            "                                                                 \n",
            " average_pooling2d_1 (Averag  (None, 5, 5, 16)         0         \n",
            " ePooling2D)                                                     \n",
            "                                                                 \n",
            " conv2d_2 (Conv2D)           (None, 1, 1, 120)         48120     \n",
            "                                                                 \n",
            " flatten (Flatten)           (None, 120)               0         \n",
            "                                                                 \n",
            " dense (Dense)               (None, 84)                10164     \n",
            "                                                                 \n",
            " dense_1 (Dense)             (None, 10)                850       \n",
            "                                                                 \n",
            "=================================================================\n",
            "Total params: 61,706\n",
            "Trainable params: 61,706\n",
            "Non-trainable params: 0\n",
            "_________________________________________________________________\n"
          ]
        }
      ],
      "source": [
        "model=Sequential()\n",
        "model.add(Conv2D(filters=6, kernel_size=5,padding='same', activation='tanh', input_shape=(28,28,1)))\n",
        "model.add(AveragePooling2D(pool_size=(2, 2)))\n",
        "model.add(Conv2D(filters=16, kernel_size=5, activation='tanh',padding='valid'))\n",
        "model.add(AveragePooling2D(pool_size=(2, 2)))\n",
        "model.add(Conv2D(filters=120, kernel_size=5, activation='tanh',padding='valid'))\n",
        "\n",
        "\n",
        "model.add(Flatten())\n",
        "model.add(Dense(84, activation='relu'))\n",
        "model.add(Dense(10, activation='softmax'))\n",
        "model.compile(optimizer = 'sgd', loss = 'categorical_crossentropy', metrics = ['accuracy']) \n",
        "model.summary()"
      ]
    },
    {
      "cell_type": "code",
      "execution_count": 7,
      "metadata": {
        "colab": {
          "base_uri": "https://localhost:8080/"
        },
        "id": "hq7YcmtB0pN2",
        "outputId": "3fe509ca-2740-4c23-acc1-33c1d710fa76"
      },
      "outputs": [
        {
          "output_type": "stream",
          "name": "stdout",
          "text": [
            "Epoch 1/4\n",
            "3750/3750 [==============================] - 64s 17ms/step - loss: 0.4592 - accuracy: 0.8737 - val_loss: 0.2010 - val_accuracy: 0.9359\n",
            "Epoch 2/4\n",
            "3750/3750 [==============================] - 52s 14ms/step - loss: 0.1742 - accuracy: 0.9462 - val_loss: 0.1298 - val_accuracy: 0.9606\n",
            "Epoch 3/4\n",
            "3750/3750 [==============================] - 55s 15ms/step - loss: 0.1205 - accuracy: 0.9635 - val_loss: 0.0938 - val_accuracy: 0.9710\n",
            "Epoch 4/4\n",
            "3750/3750 [==============================] - 57s 15ms/step - loss: 0.0918 - accuracy: 0.9713 - val_loss: 0.0783 - val_accuracy: 0.9739\n"
          ]
        }
      ],
      "source": [
        "res = model.fit(x_train,\n",
        "          y_train,\n",
        "          batch_size=16,\n",
        "          epochs = 4,\n",
        "          validation_data = (x_test,y_test))"
      ]
    },
    {
      "cell_type": "code",
      "execution_count": 8,
      "metadata": {
        "id": "drKpBav31s0g",
        "colab": {
          "base_uri": "https://localhost:8080/",
          "height": 447
        },
        "outputId": "a47038ea-bedb-4aab-cda2-6b7aa8be0789"
      },
      "outputs": [
        {
          "output_type": "execute_result",
          "data": {
            "text/plain": [
              "[<matplotlib.lines.Line2D at 0x7f16664535e0>]"
            ]
          },
          "metadata": {},
          "execution_count": 8
        },
        {
          "output_type": "display_data",
          "data": {
            "text/plain": [
              "<Figure size 640x480 with 1 Axes>"
            ],
            "image/png": "[encoded data removed]"
          },
          "metadata": {}
        }
      ],
      "source": [
        "plt.plot(res.history['val_accuracy'])\n",
        "plt.plot(res.history['accuracy'])"
      ]
    },
    {
      "cell_type": "code",
      "source": [],
      "metadata": {
        "id": "4Z-B2f0GikKH"
      },
      "execution_count": 8,
      "outputs": []
    }
  ],
  "metadata": {
    "accelerator": "GPU",
    "colab": {
      "provenance": []
    },
    "gpuClass": "standard",
    "kernelspec": {
      "display_name": "Python 3",
      "name": "python3"
    },
    "language_info": {
      "name": "python"
    }
  },
  "nbformat": 4,
  "nbformat_minor": 0
}