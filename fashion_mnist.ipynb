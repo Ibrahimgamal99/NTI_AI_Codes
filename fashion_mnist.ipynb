{
  "nbformat": 4,
  "nbformat_minor": 0,
  "metadata": {
    "colab": {
      "provenance": []
    },
    "kernelspec": {
      "name": "python3",
      "display_name": "Python 3"
    },
    "language_info": {
      "name": "python"
    },
    "gpuClass": "standard"
  },
  "cells": [
    {
      "cell_type": "code",
      "execution_count": 1,
      "metadata": {
        "id": "a91PnL3s0OUu"
      },
      "outputs": [],
      "source": [
        "import numpy as np\n",
        "import matplotlib.pyplot as plt\n",
        "from keras.models import Sequential\n",
        "from keras.layers import Dense,Dropout\n",
        "from keras.datasets import fashion_mnist\n",
        "import keras"
      ]
    },
    {
      "cell_type": "code",
      "source": [
        "(x_train, y_train), (x_test, y_test) = fashion_mnist.load_data()\n",
        "from sklearn.model_selection import train_test_split\n",
        "x_train, x_val, y_train, y_val = train_test_split(x_train,y_train , test_size = 0.15, random_state = 66)"
      ],
      "metadata": {
        "colab": {
          "base_uri": "https://localhost:8080/"
        },
        "id": "_OovKkQf0RLF",
        "outputId": "440a4347-0e78-4eaa-9493-3d02e6f59105"
      },
      "execution_count": 2,
      "outputs": [
        {
          "output_type": "stream",
          "name": "stdout",
          "text": [
            "Downloading data from https://storage.googleapis.com/tensorflow/tf-keras-datasets/train-labels-idx1-ubyte.gz\n",
            "29515/29515 [==============================] - 0s 0us/step\n",
            "Downloading data from https://storage.googleapis.com/tensorflow/tf-keras-datasets/train-images-idx3-ubyte.gz\n",
            "26421880/26421880 [==============================] - 0s 0us/step\n",
            "Downloading data from https://storage.googleapis.com/tensorflow/tf-keras-datasets/t10k-labels-idx1-ubyte.gz\n",
            "5148/5148 [==============================] - 0s 0us/step\n",
            "Downloading data from https://storage.googleapis.com/tensorflow/tf-keras-datasets/t10k-images-idx3-ubyte.gz\n",
            "4422102/4422102 [==============================] - 0s 0us/step\n"
          ]
        }
      ]
    },
    {
      "cell_type": "code",
      "source": [
        "x_train = x_train.reshape(-1,28*28)/255\n",
        "x_test = x_test.reshape(-1,28*28)/255\n",
        "X_val = x_val.reshape(-1,28*28)/255"
      ],
      "metadata": {
        "id": "UGv08W7B0S6A"
      },
      "execution_count": 3,
      "outputs": []
    },
    {
      "cell_type": "code",
      "source": [
        "model=Sequential()\n",
        "model.add(Dense(512,input_shape=(28*28,),activation='ReLU'))\n",
        "model.add(Dense(256))\n",
        "model.add(Dropout(0.3))\n",
        "model.add(Dense(10,activation='softmax'))#output\n",
        "model.compile(optimizer = 'adam', loss = 'SparseCategoricalCrossentropy', metrics = ['accuracy']) \n",
        "model.summary()"
      ],
      "metadata": {
        "colab": {
          "base_uri": "https://localhost:8080/"
        },
        "id": "dFXq5jCD0Uys",
        "outputId": "003d4cc4-6a93-4e5c-eb66-8bd1f155bb62"
      },
      "execution_count": 4,
      "outputs": [
        {
          "output_type": "stream",
          "name": "stdout",
          "text": [
            "Model: \"sequential\"\n",
            "_________________________________________________________________\n",
            " Layer (type)                Output Shape              Param #   \n",
            "=================================================================\n",
            " dense (Dense)               (None, 512)               401920    \n",
            "                                                                 \n",
            " dense_1 (Dense)             (None, 256)               131328    \n",
            "                                                                 \n",
            " dropout (Dropout)           (None, 256)               0         \n",
            "                                                                 \n",
            " dense_2 (Dense)             (None, 10)                2570      \n",
            "                                                                 \n",
            "=================================================================\n",
            "Total params: 535,818\n",
            "Trainable params: 535,818\n",
            "Non-trainable params: 0\n",
            "_________________________________________________________________\n"
          ]
        }
      ]
    },
    {
      "cell_type": "code",
      "source": [
        "res = model.fit(x_train,\n",
        "          y_train,\n",
        "          batch_size=20,\n",
        "          epochs = 16,\n",
        "          validation_data = (X_val,y_val))"
      ],
      "metadata": {
        "colab": {
          "base_uri": "https://localhost:8080/"
        },
        "id": "hq7YcmtB0pN2",
        "outputId": "384ad8c9-b141-49bf-9634-b21b09a1f05b"
      },
      "execution_count": 5,
      "outputs": [
        {
          "output_type": "stream",
          "name": "stdout",
          "text": [
            "Epoch 1/16\n",
            "2550/2550 [==============================] - 29s 11ms/step - loss: 0.5058 - accuracy: 0.8179 - val_loss: 0.4363 - val_accuracy: 0.8406\n",
            "Epoch 2/16\n",
            "2550/2550 [==============================] - 18s 7ms/step - loss: 0.3890 - accuracy: 0.8598 - val_loss: 0.3720 - val_accuracy: 0.8593\n",
            "Epoch 3/16\n",
            "2550/2550 [==============================] - 20s 8ms/step - loss: 0.3527 - accuracy: 0.8725 - val_loss: 0.3592 - val_accuracy: 0.8700\n",
            "Epoch 4/16\n",
            "2550/2550 [==============================] - 18s 7ms/step - loss: 0.3354 - accuracy: 0.8784 - val_loss: 0.3601 - val_accuracy: 0.8712\n",
            "Epoch 5/16\n",
            "2550/2550 [==============================] - 18s 7ms/step - loss: 0.3164 - accuracy: 0.8840 - val_loss: 0.3489 - val_accuracy: 0.8731\n",
            "Epoch 6/16\n",
            "2550/2550 [==============================] - 19s 7ms/step - loss: 0.3045 - accuracy: 0.8894 - val_loss: 0.3523 - val_accuracy: 0.8782\n",
            "Epoch 7/16\n",
            "2550/2550 [==============================] - 18s 7ms/step - loss: 0.2954 - accuracy: 0.8908 - val_loss: 0.3229 - val_accuracy: 0.8822\n",
            "Epoch 8/16\n",
            "2550/2550 [==============================] - 18s 7ms/step - loss: 0.2856 - accuracy: 0.8950 - val_loss: 0.3528 - val_accuracy: 0.8764\n",
            "Epoch 9/16\n",
            "2550/2550 [==============================] - 17s 7ms/step - loss: 0.2763 - accuracy: 0.8983 - val_loss: 0.3493 - val_accuracy: 0.8763\n",
            "Epoch 10/16\n",
            "2550/2550 [==============================] - 17s 7ms/step - loss: 0.2687 - accuracy: 0.8999 - val_loss: 0.3600 - val_accuracy: 0.8777\n",
            "Epoch 11/16\n",
            "2550/2550 [==============================] - 17s 7ms/step - loss: 0.2622 - accuracy: 0.9026 - val_loss: 0.3535 - val_accuracy: 0.8760\n",
            "Epoch 12/16\n",
            "2550/2550 [==============================] - 17s 7ms/step - loss: 0.2535 - accuracy: 0.9059 - val_loss: 0.3356 - val_accuracy: 0.8883\n",
            "Epoch 13/16\n",
            "2550/2550 [==============================] - 16s 6ms/step - loss: 0.2533 - accuracy: 0.9077 - val_loss: 0.3345 - val_accuracy: 0.8843\n",
            "Epoch 14/16\n",
            "2550/2550 [==============================] - 17s 7ms/step - loss: 0.2433 - accuracy: 0.9109 - val_loss: 0.3445 - val_accuracy: 0.8849\n",
            "Epoch 15/16\n",
            "2550/2550 [==============================] - 17s 7ms/step - loss: 0.2375 - accuracy: 0.9130 - val_loss: 0.3354 - val_accuracy: 0.8909\n",
            "Epoch 16/16\n",
            "2550/2550 [==============================] - 17s 7ms/step - loss: 0.2339 - accuracy: 0.9132 - val_loss: 0.3372 - val_accuracy: 0.8874\n"
          ]
        }
      ]
    },
    {
      "cell_type": "code",
      "source": [
        "model.save('/content/drive/MyDrive/saved/model.h5')"
      ],
      "metadata": {
        "id": "pHScK7GCJcKW"
      },
      "execution_count": 9,
      "outputs": []
    },
    {
      "cell_type": "code",
      "source": [
        "plt.plot(res.history['accuracy'])\n",
        "plt.plot(res.history['val_accuracy'])"
      ],
      "metadata": {
        "colab": {
          "base_uri": "https://localhost:8080/",
          "height": 447
        },
        "id": "drKpBav31s0g",
        "outputId": "76f99850-87fe-4955-d805-e1128b0ec134"
      },
      "execution_count": 11,
      "outputs": [
        {
          "output_type": "execute_result",
          "data": {
            "text/plain": [
              "[<matplotlib.lines.Line2D at 0x7f7146d33b50>]"
            ]
          },
          "metadata": {},
          "execution_count": 11
        },
        {
          "output_type": "display_data",
          "data": {
            "text/plain": [
              "<Figure size 640x480 with 1 Axes>"
            ],
            "image/png": "[encoded data removed]"
          },
          "metadata": {}
        }
      ]
    },
    {
      "cell_type": "code",
      "source": [],
      "metadata": {
        "id": "cVhjsRxZMfqg"
      },
      "execution_count": null,
      "outputs": []
    }
  ]
}