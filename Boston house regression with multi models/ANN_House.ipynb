{
 "cells": [
  {
   "cell_type": "code",
   "execution_count": 1,
   "metadata": {},
   "outputs": [],
   "source": [
    "import numpy as np\n",
    "import pandas as pd \n",
    "import matplotlib.pyplot as plt\n",
    "from sklearn.metrics import r2_score\n",
    "%matplotlib inline"
   ]
  },
  {
   "cell_type": "code",
   "execution_count": 2,
   "metadata": {},
   "outputs": [
    {
     "data": {
      "text/html": [
       "<div>\n",
       "<style scoped>\n",
       "    .dataframe tbody tr th:only-of-type {\n",
       "        vertical-align: middle;\n",
       "    }\n",
       "\n",
       "    .dataframe tbody tr th {\n",
       "        vertical-align: top;\n",
       "    }\n",
       "\n",
       "    .dataframe thead th {\n",
       "        text-align: right;\n",
       "    }\n",
       "</style>\n",
       "<table border=\"1\" class=\"dataframe\">\n",
       "  <thead>\n",
       "    <tr style=\"text-align: right;\">\n",
       "      <th></th>\n",
       "      <th>0</th>\n",
       "      <th>1</th>\n",
       "      <th>2</th>\n",
       "      <th>3</th>\n",
       "      <th>4</th>\n",
       "      <th>5</th>\n",
       "      <th>6</th>\n",
       "      <th>7</th>\n",
       "      <th>8</th>\n",
       "      <th>9</th>\n",
       "      <th>10</th>\n",
       "      <th>11</th>\n",
       "      <th>12</th>\n",
       "      <th>13</th>\n",
       "    </tr>\n",
       "  </thead>\n",
       "  <tbody>\n",
       "    <tr>\n",
       "      <th>0</th>\n",
       "      <td>0.00632</td>\n",
       "      <td>18.0</td>\n",
       "      <td>2.31</td>\n",
       "      <td>0</td>\n",
       "      <td>0.538</td>\n",
       "      <td>6.575</td>\n",
       "      <td>65.2</td>\n",
       "      <td>4.0900</td>\n",
       "      <td>1</td>\n",
       "      <td>296.0</td>\n",
       "      <td>15.3</td>\n",
       "      <td>396.90</td>\n",
       "      <td>4.98</td>\n",
       "      <td>24.0</td>\n",
       "    </tr>\n",
       "    <tr>\n",
       "      <th>1</th>\n",
       "      <td>0.02731</td>\n",
       "      <td>0.0</td>\n",
       "      <td>7.07</td>\n",
       "      <td>0</td>\n",
       "      <td>0.469</td>\n",
       "      <td>6.421</td>\n",
       "      <td>78.9</td>\n",
       "      <td>4.9671</td>\n",
       "      <td>2</td>\n",
       "      <td>242.0</td>\n",
       "      <td>17.8</td>\n",
       "      <td>396.90</td>\n",
       "      <td>9.14</td>\n",
       "      <td>21.6</td>\n",
       "    </tr>\n",
       "    <tr>\n",
       "      <th>2</th>\n",
       "      <td>0.02729</td>\n",
       "      <td>0.0</td>\n",
       "      <td>7.07</td>\n",
       "      <td>0</td>\n",
       "      <td>0.469</td>\n",
       "      <td>7.185</td>\n",
       "      <td>61.1</td>\n",
       "      <td>4.9671</td>\n",
       "      <td>2</td>\n",
       "      <td>242.0</td>\n",
       "      <td>17.8</td>\n",
       "      <td>392.83</td>\n",
       "      <td>4.03</td>\n",
       "      <td>34.7</td>\n",
       "    </tr>\n",
       "    <tr>\n",
       "      <th>3</th>\n",
       "      <td>0.03237</td>\n",
       "      <td>0.0</td>\n",
       "      <td>2.18</td>\n",
       "      <td>0</td>\n",
       "      <td>0.458</td>\n",
       "      <td>6.998</td>\n",
       "      <td>45.8</td>\n",
       "      <td>6.0622</td>\n",
       "      <td>3</td>\n",
       "      <td>222.0</td>\n",
       "      <td>18.7</td>\n",
       "      <td>394.63</td>\n",
       "      <td>2.94</td>\n",
       "      <td>33.4</td>\n",
       "    </tr>\n",
       "    <tr>\n",
       "      <th>4</th>\n",
       "      <td>0.06905</td>\n",
       "      <td>0.0</td>\n",
       "      <td>2.18</td>\n",
       "      <td>0</td>\n",
       "      <td>0.458</td>\n",
       "      <td>7.147</td>\n",
       "      <td>54.2</td>\n",
       "      <td>6.0622</td>\n",
       "      <td>3</td>\n",
       "      <td>222.0</td>\n",
       "      <td>18.7</td>\n",
       "      <td>396.90</td>\n",
       "      <td>5.33</td>\n",
       "      <td>36.2</td>\n",
       "    </tr>\n",
       "  </tbody>\n",
       "</table>\n",
       "</div>"
      ],
      "text/plain": [
       "        0     1     2   3      4      5     6       7   8      9     10  \\\n",
       "0  0.00632  18.0  2.31   0  0.538  6.575  65.2  4.0900   1  296.0  15.3   \n",
       "1  0.02731   0.0  7.07   0  0.469  6.421  78.9  4.9671   2  242.0  17.8   \n",
       "2  0.02729   0.0  7.07   0  0.469  7.185  61.1  4.9671   2  242.0  17.8   \n",
       "3  0.03237   0.0  2.18   0  0.458  6.998  45.8  6.0622   3  222.0  18.7   \n",
       "4  0.06905   0.0  2.18   0  0.458  7.147  54.2  6.0622   3  222.0  18.7   \n",
       "\n",
       "       11    12    13  \n",
       "0  396.90  4.98  24.0  \n",
       "1  396.90  9.14  21.6  \n",
       "2  392.83  4.03  34.7  \n",
       "3  394.63  2.94  33.4  \n",
       "4  396.90  5.33  36.2  "
      ]
     },
     "execution_count": 2,
     "metadata": {},
     "output_type": "execute_result"
    }
   ],
   "source": [
    "dataset = pd.read_csv('house.csv',delim_whitespace=True,header=None)\n",
    "dataset.head(5)"
   ]
  },
  {
   "cell_type": "code",
   "execution_count": 3,
   "metadata": {},
   "outputs": [
    {
     "name": "stdout",
     "output_type": "stream",
     "text": [
      "<class 'pandas.core.frame.DataFrame'>\n",
      "RangeIndex: 506 entries, 0 to 505\n",
      "Data columns (total 14 columns):\n",
      " #   Column  Non-Null Count  Dtype  \n",
      "---  ------  --------------  -----  \n",
      " 0   0       506 non-null    float64\n",
      " 1   1       506 non-null    float64\n",
      " 2   2       506 non-null    float64\n",
      " 3   3       506 non-null    int64  \n",
      " 4   4       506 non-null    float64\n",
      " 5   5       506 non-null    float64\n",
      " 6   6       506 non-null    float64\n",
      " 7   7       506 non-null    float64\n",
      " 8   8       506 non-null    int64  \n",
      " 9   9       506 non-null    float64\n",
      " 10  10      506 non-null    float64\n",
      " 11  11      506 non-null    float64\n",
      " 12  12      506 non-null    float64\n",
      " 13  13      506 non-null    float64\n",
      "dtypes: float64(12), int64(2)\n",
      "memory usage: 55.5 KB\n"
     ]
    }
   ],
   "source": [
    "dataset.info()"
   ]
  },
  {
   "cell_type": "code",
   "execution_count": 4,
   "metadata": {},
   "outputs": [],
   "source": [
    "X=dataset.iloc[:,:-1]\n",
    "y=dataset.iloc[:,-1]"
   ]
  },
  {
   "cell_type": "code",
   "execution_count": 5,
   "metadata": {},
   "outputs": [],
   "source": [
    "from sklearn.preprocessing import MinMaxScaler\n",
    "sc = MinMaxScaler()\n",
    "X = sc.fit_transform(X)\n",
    "from sklearn.model_selection import train_test_split\n",
    "X_train, X_test, y_train, y_test = train_test_split(X, y, test_size = 0.22, random_state = 66)"
   ]
  },
  {
   "cell_type": "markdown",
   "metadata": {},
   "source": [
    "## SVR"
   ]
  },
  {
   "cell_type": "code",
   "execution_count": 6,
   "metadata": {},
   "outputs": [
    {
     "name": "stdout",
     "output_type": "stream",
     "text": [
      "SVR Score =  0.8530222352741897\n"
     ]
    }
   ],
   "source": [
    "from sklearn.svm import SVR\n",
    "model_svr = SVR(kernel='poly').fit(X_train, y_train)\n",
    "y_svr= model_svr.predict(X_test)\n",
    "svr=r2_score(y_test, y_svr)\n",
    "print(\"SVR Score = \",svr)"
   ]
  },
  {
   "cell_type": "markdown",
   "metadata": {},
   "source": [
    "## Linear Regression"
   ]
  },
  {
   "cell_type": "code",
   "execution_count": 7,
   "metadata": {},
   "outputs": [
    {
     "name": "stdout",
     "output_type": "stream",
     "text": [
      "Linear Regression Score =  0.8091691391101397\n"
     ]
    }
   ],
   "source": [
    "from sklearn.linear_model import LinearRegression\n",
    "model_lr = LinearRegression().fit(X_train, y_train)\n",
    "y_lr= model_lr.predict(X_test)\n",
    "lr=r2_score(y_test, y_lr)\n",
    "print(\"Linear Regression Score = \",lr)"
   ]
  },
  {
   "cell_type": "markdown",
   "metadata": {},
   "source": [
    "## Decision Tree"
   ]
  },
  {
   "cell_type": "code",
   "execution_count": 8,
   "metadata": {},
   "outputs": [
    {
     "name": "stdout",
     "output_type": "stream",
     "text": [
      "Decision Tree Score =  0.78006254711656\n"
     ]
    }
   ],
   "source": [
    "from sklearn.tree import DecisionTreeRegressor\n",
    "model_DT = DecisionTreeRegressor().fit(X_train, y_train)\n",
    "y_dt = model_DT.predict(X_test)\n",
    "dt = r2_score(y_test, y_dt)\n",
    "print(\"Decision Tree Score = \",dt)"
   ]
  },
  {
   "cell_type": "markdown",
   "metadata": {},
   "source": [
    "## Random Forest"
   ]
  },
  {
   "cell_type": "code",
   "execution_count": 9,
   "metadata": {},
   "outputs": [
    {
     "name": "stdout",
     "output_type": "stream",
     "text": [
      "RandomForest Regress Score =  0.8950097394835661\n"
     ]
    }
   ],
   "source": [
    "from sklearn.ensemble import RandomForestRegressor\n",
    "RFr = RandomForestRegressor(max_depth=21).fit(X_train, y_train)\n",
    "y_RT = RFr.predict(X_test)\n",
    "rf=r2_score(y_test, y_RT)\n",
    "print(\"RandomForest Regress Score = \",rf)"
   ]
  },
  {
   "cell_type": "markdown",
   "metadata": {},
   "source": [
    "## ANN"
   ]
  },
  {
   "cell_type": "code",
   "execution_count": 10,
   "metadata": {},
   "outputs": [],
   "source": [
    "from keras.models import Sequential\n",
    "from keras.layers import Dense\n",
    "import keras"
   ]
  },
  {
   "cell_type": "code",
   "execution_count": 11,
   "metadata": {},
   "outputs": [
    {
     "name": "stdout",
     "output_type": "stream",
     "text": [
      "Model: \"sequential\"\n",
      "_________________________________________________________________\n",
      " Layer (type)                Output Shape              Param #   \n",
      "=================================================================\n",
      " dense (Dense)               (None, 64)                896       \n",
      "                                                                 \n",
      " dense_1 (Dense)             (None, 32)                2080      \n",
      "                                                                 \n",
      " dense_2 (Dense)             (None, 1)                 33        \n",
      "                                                                 \n",
      "=================================================================\n",
      "Total params: 3,009\n",
      "Trainable params: 3,009\n",
      "Non-trainable params: 0\n",
      "_________________________________________________________________\n"
     ]
    }
   ],
   "source": [
    "model=Sequential()\n",
    "model.add(Dense(64,input_dim=X.shape[1],activation='ReLU'))\n",
    "model.add(Dense(32))\n",
    "model.add(Dense(1))#output \n",
    "opt = keras.optimizers.Adam(learning_rate=0.015)\n",
    "model.compile(optimizer = opt, loss = 'mse')\n",
    "model.summary()"
   ]
  },
  {
   "cell_type": "code",
   "execution_count": 12,
   "metadata": {
    "scrolled": true
   },
   "outputs": [
    {
     "name": "stdout",
     "output_type": "stream",
     "text": [
      "Epoch 1/128\n",
      "50/50 [==============================] - 1s 6ms/step - loss: 136.9278 - val_loss: 33.8601\n",
      "Epoch 2/128\n",
      "50/50 [==============================] - 0s 3ms/step - loss: 41.5193 - val_loss: 17.7353\n",
      "Epoch 3/128\n",
      "50/50 [==============================] - 0s 3ms/step - loss: 29.0990 - val_loss: 15.7706\n",
      "Epoch 4/128\n",
      "50/50 [==============================] - 0s 3ms/step - loss: 32.3977 - val_loss: 12.0204\n",
      "Epoch 5/128\n",
      "50/50 [==============================] - 0s 3ms/step - loss: 25.9207 - val_loss: 10.2254\n",
      "Epoch 6/128\n",
      "50/50 [==============================] - 0s 3ms/step - loss: 22.0742 - val_loss: 12.0431\n",
      "Epoch 7/128\n",
      "50/50 [==============================] - 0s 3ms/step - loss: 19.7665 - val_loss: 28.4155\n",
      "Epoch 8/128\n",
      "50/50 [==============================] - 0s 3ms/step - loss: 21.4667 - val_loss: 9.0806\n",
      "Epoch 9/128\n",
      "50/50 [==============================] - 0s 3ms/step - loss: 19.3658 - val_loss: 9.9894\n",
      "Epoch 10/128\n",
      "50/50 [==============================] - 0s 3ms/step - loss: 17.9543 - val_loss: 11.0088\n",
      "Epoch 11/128\n",
      "50/50 [==============================] - 0s 3ms/step - loss: 17.3218 - val_loss: 7.3062\n",
      "Epoch 12/128\n",
      "50/50 [==============================] - 0s 2ms/step - loss: 17.6997 - val_loss: 8.6154\n",
      "Epoch 13/128\n",
      "50/50 [==============================] - 0s 3ms/step - loss: 17.9302 - val_loss: 11.0596\n",
      "Epoch 14/128\n",
      "50/50 [==============================] - 0s 3ms/step - loss: 16.0229 - val_loss: 7.0583\n",
      "Epoch 15/128\n",
      "50/50 [==============================] - 0s 3ms/step - loss: 19.7312 - val_loss: 13.9759\n",
      "Epoch 16/128\n",
      "50/50 [==============================] - 0s 3ms/step - loss: 19.4567 - val_loss: 10.3338\n",
      "Epoch 17/128\n",
      "50/50 [==============================] - 0s 3ms/step - loss: 13.6613 - val_loss: 9.6650\n",
      "Epoch 18/128\n",
      "50/50 [==============================] - 0s 2ms/step - loss: 15.0607 - val_loss: 9.5726\n",
      "Epoch 19/128\n",
      "50/50 [==============================] - 0s 2ms/step - loss: 13.6652 - val_loss: 8.9071\n",
      "Epoch 20/128\n",
      "50/50 [==============================] - 0s 3ms/step - loss: 13.3129 - val_loss: 11.2583\n",
      "Epoch 21/128\n",
      "50/50 [==============================] - 0s 3ms/step - loss: 15.3864 - val_loss: 21.6211\n",
      "Epoch 22/128\n",
      "50/50 [==============================] - 0s 3ms/step - loss: 14.2919 - val_loss: 11.4635\n",
      "Epoch 23/128\n",
      "50/50 [==============================] - 0s 3ms/step - loss: 13.5407 - val_loss: 10.2988\n",
      "Epoch 24/128\n",
      "50/50 [==============================] - 0s 3ms/step - loss: 12.1346 - val_loss: 10.8669\n",
      "Epoch 25/128\n",
      "50/50 [==============================] - 0s 2ms/step - loss: 11.7476 - val_loss: 9.0709\n",
      "Epoch 26/128\n",
      "50/50 [==============================] - 0s 2ms/step - loss: 10.7031 - val_loss: 8.5763\n",
      "Epoch 27/128\n",
      "50/50 [==============================] - 0s 2ms/step - loss: 10.9605 - val_loss: 12.7350\n",
      "Epoch 28/128\n",
      "50/50 [==============================] - 0s 3ms/step - loss: 12.0776 - val_loss: 8.2277\n",
      "Epoch 29/128\n",
      "50/50 [==============================] - 0s 2ms/step - loss: 12.4881 - val_loss: 9.6164\n",
      "Epoch 30/128\n",
      "50/50 [==============================] - 0s 3ms/step - loss: 12.1426 - val_loss: 12.7194\n",
      "Epoch 31/128\n",
      "50/50 [==============================] - 0s 3ms/step - loss: 11.8399 - val_loss: 8.1059\n",
      "Epoch 32/128\n",
      "50/50 [==============================] - 0s 2ms/step - loss: 12.2095 - val_loss: 11.9288\n",
      "Epoch 33/128\n",
      "50/50 [==============================] - 0s 3ms/step - loss: 10.7146 - val_loss: 10.4138\n",
      "Epoch 34/128\n",
      "50/50 [==============================] - 0s 3ms/step - loss: 12.0340 - val_loss: 9.0948\n",
      "Epoch 35/128\n",
      "50/50 [==============================] - 0s 2ms/step - loss: 11.3708 - val_loss: 9.5241\n",
      "Epoch 36/128\n",
      "50/50 [==============================] - 0s 3ms/step - loss: 15.3392 - val_loss: 10.0016\n",
      "Epoch 37/128\n",
      "50/50 [==============================] - 0s 3ms/step - loss: 13.2998 - val_loss: 8.2038\n",
      "Epoch 38/128\n",
      "50/50 [==============================] - 0s 3ms/step - loss: 13.5632 - val_loss: 6.5203\n",
      "Epoch 39/128\n",
      "50/50 [==============================] - 0s 3ms/step - loss: 10.3610 - val_loss: 8.3340\n",
      "Epoch 40/128\n",
      "50/50 [==============================] - 0s 3ms/step - loss: 12.3917 - val_loss: 6.8356\n",
      "Epoch 41/128\n",
      "50/50 [==============================] - 0s 3ms/step - loss: 10.2841 - val_loss: 10.0688\n",
      "Epoch 42/128\n",
      "50/50 [==============================] - 0s 3ms/step - loss: 12.6722 - val_loss: 7.5736\n",
      "Epoch 43/128\n",
      "50/50 [==============================] - 0s 3ms/step - loss: 9.7574 - val_loss: 9.1246\n",
      "Epoch 44/128\n",
      "50/50 [==============================] - 0s 3ms/step - loss: 11.2196 - val_loss: 8.6722\n",
      "Epoch 45/128\n",
      "50/50 [==============================] - 0s 3ms/step - loss: 11.4221 - val_loss: 9.2698\n",
      "Epoch 46/128\n",
      "50/50 [==============================] - 0s 3ms/step - loss: 9.4904 - val_loss: 7.4797\n",
      "Epoch 47/128\n",
      "50/50 [==============================] - 0s 3ms/step - loss: 10.0774 - val_loss: 13.3220\n",
      "Epoch 48/128\n",
      "50/50 [==============================] - 0s 3ms/step - loss: 12.4609 - val_loss: 11.9503\n",
      "Epoch 49/128\n",
      "50/50 [==============================] - 0s 3ms/step - loss: 9.7447 - val_loss: 9.0059\n",
      "Epoch 50/128\n",
      "50/50 [==============================] - 0s 3ms/step - loss: 10.7397 - val_loss: 12.0336\n",
      "Epoch 51/128\n",
      "50/50 [==============================] - 0s 3ms/step - loss: 10.1971 - val_loss: 7.0930\n",
      "Epoch 52/128\n",
      "50/50 [==============================] - 0s 3ms/step - loss: 10.0808 - val_loss: 12.7068\n",
      "Epoch 53/128\n",
      "50/50 [==============================] - 0s 4ms/step - loss: 10.2932 - val_loss: 9.9881\n",
      "Epoch 54/128\n",
      "50/50 [==============================] - 0s 3ms/step - loss: 8.5812 - val_loss: 7.5423\n",
      "Epoch 55/128\n",
      "50/50 [==============================] - 0s 3ms/step - loss: 11.0244 - val_loss: 7.4715\n",
      "Epoch 56/128\n",
      "50/50 [==============================] - 0s 4ms/step - loss: 9.9757 - val_loss: 7.5927\n",
      "Epoch 57/128\n",
      "50/50 [==============================] - 0s 3ms/step - loss: 9.4478 - val_loss: 9.6620\n",
      "Epoch 58/128\n",
      "50/50 [==============================] - 0s 3ms/step - loss: 9.5550 - val_loss: 9.6227\n",
      "Epoch 59/128\n",
      "50/50 [==============================] - 0s 3ms/step - loss: 10.9896 - val_loss: 10.1724\n",
      "Epoch 60/128\n",
      "50/50 [==============================] - 0s 3ms/step - loss: 9.2350 - val_loss: 10.0186\n",
      "Epoch 61/128\n",
      "50/50 [==============================] - 0s 3ms/step - loss: 8.0496 - val_loss: 8.1906\n",
      "Epoch 62/128\n",
      "50/50 [==============================] - 0s 3ms/step - loss: 11.6010 - val_loss: 13.2963\n",
      "Epoch 63/128\n",
      "50/50 [==============================] - 0s 3ms/step - loss: 9.9035 - val_loss: 9.3902\n",
      "Epoch 64/128\n",
      "50/50 [==============================] - 0s 3ms/step - loss: 8.9733 - val_loss: 7.5482\n",
      "Epoch 65/128\n",
      "50/50 [==============================] - 0s 4ms/step - loss: 9.3082 - val_loss: 7.5730\n",
      "Epoch 66/128\n",
      "50/50 [==============================] - 0s 3ms/step - loss: 8.0394 - val_loss: 8.5243\n",
      "Epoch 67/128\n",
      "50/50 [==============================] - 0s 3ms/step - loss: 9.2863 - val_loss: 7.4088\n",
      "Epoch 68/128\n",
      "50/50 [==============================] - 0s 3ms/step - loss: 8.8672 - val_loss: 14.2198\n",
      "Epoch 69/128\n",
      "50/50 [==============================] - 0s 4ms/step - loss: 10.2012 - val_loss: 7.0839\n",
      "Epoch 70/128\n",
      "50/50 [==============================] - 0s 3ms/step - loss: 11.1871 - val_loss: 9.3823\n",
      "Epoch 71/128\n",
      "50/50 [==============================] - 0s 3ms/step - loss: 11.8358 - val_loss: 8.2637\n",
      "Epoch 72/128\n",
      "50/50 [==============================] - 0s 3ms/step - loss: 10.1488 - val_loss: 8.3917\n",
      "Epoch 73/128\n",
      "50/50 [==============================] - 0s 3ms/step - loss: 9.2160 - val_loss: 10.7434\n",
      "Epoch 74/128\n",
      "50/50 [==============================] - 0s 4ms/step - loss: 8.8025 - val_loss: 6.1353\n",
      "Epoch 75/128\n",
      "50/50 [==============================] - 0s 3ms/step - loss: 8.6512 - val_loss: 10.9690\n",
      "Epoch 76/128\n",
      "50/50 [==============================] - 0s 3ms/step - loss: 7.7446 - val_loss: 8.0373\n",
      "Epoch 77/128\n",
      "50/50 [==============================] - 0s 3ms/step - loss: 8.4250 - val_loss: 8.8807\n",
      "Epoch 78/128\n",
      "50/50 [==============================] - 0s 4ms/step - loss: 8.0742 - val_loss: 7.2848\n",
      "Epoch 79/128\n",
      "50/50 [==============================] - 0s 4ms/step - loss: 8.5958 - val_loss: 8.0525\n",
      "Epoch 80/128\n",
      "50/50 [==============================] - 0s 3ms/step - loss: 8.4536 - val_loss: 19.6128\n",
      "Epoch 81/128\n",
      "50/50 [==============================] - 0s 3ms/step - loss: 10.5460 - val_loss: 11.6133\n",
      "Epoch 82/128\n"
     ]
    },
    {
     "name": "stdout",
     "output_type": "stream",
     "text": [
      "50/50 [==============================] - 0s 3ms/step - loss: 8.3211 - val_loss: 13.3599\n",
      "Epoch 83/128\n",
      "50/50 [==============================] - 0s 3ms/step - loss: 9.6612 - val_loss: 12.6984\n",
      "Epoch 84/128\n",
      "50/50 [==============================] - 0s 4ms/step - loss: 9.4119 - val_loss: 7.0413\n",
      "Epoch 85/128\n",
      "50/50 [==============================] - 0s 3ms/step - loss: 10.7404 - val_loss: 7.4896\n",
      "Epoch 86/128\n",
      "50/50 [==============================] - 0s 2ms/step - loss: 8.9778 - val_loss: 7.4027\n",
      "Epoch 87/128\n",
      "50/50 [==============================] - 0s 3ms/step - loss: 8.4351 - val_loss: 5.2296\n",
      "Epoch 88/128\n",
      "50/50 [==============================] - 0s 3ms/step - loss: 7.9813 - val_loss: 9.3723\n",
      "Epoch 89/128\n",
      "50/50 [==============================] - 0s 3ms/step - loss: 8.4159 - val_loss: 8.0015\n",
      "Epoch 90/128\n",
      "50/50 [==============================] - 0s 3ms/step - loss: 8.2469 - val_loss: 8.8809\n",
      "Epoch 91/128\n",
      "50/50 [==============================] - 0s 3ms/step - loss: 8.4769 - val_loss: 7.2528\n",
      "Epoch 92/128\n",
      "50/50 [==============================] - 0s 3ms/step - loss: 8.8961 - val_loss: 7.4068\n",
      "Epoch 93/128\n",
      "50/50 [==============================] - 0s 3ms/step - loss: 8.0321 - val_loss: 5.2623\n",
      "Epoch 94/128\n",
      "50/50 [==============================] - 0s 3ms/step - loss: 9.6518 - val_loss: 12.6935\n",
      "Epoch 95/128\n",
      "50/50 [==============================] - 0s 4ms/step - loss: 10.5492 - val_loss: 9.4008\n",
      "Epoch 96/128\n",
      "50/50 [==============================] - 0s 3ms/step - loss: 8.6985 - val_loss: 6.7668\n",
      "Epoch 97/128\n",
      "50/50 [==============================] - 0s 3ms/step - loss: 8.7804 - val_loss: 5.9545\n",
      "Epoch 98/128\n",
      "50/50 [==============================] - 0s 3ms/step - loss: 8.0782 - val_loss: 10.2762\n",
      "Epoch 99/128\n",
      "50/50 [==============================] - 0s 3ms/step - loss: 8.1677 - val_loss: 7.0886\n",
      "Epoch 100/128\n",
      "50/50 [==============================] - 0s 3ms/step - loss: 9.5752 - val_loss: 6.4369\n",
      "Epoch 101/128\n",
      "50/50 [==============================] - 0s 3ms/step - loss: 7.9238 - val_loss: 7.4326\n",
      "Epoch 102/128\n",
      "50/50 [==============================] - 0s 3ms/step - loss: 8.0732 - val_loss: 7.9861\n",
      "Epoch 103/128\n",
      "50/50 [==============================] - 0s 3ms/step - loss: 7.0886 - val_loss: 7.2963\n",
      "Epoch 104/128\n",
      "50/50 [==============================] - 0s 3ms/step - loss: 7.4711 - val_loss: 7.3004\n",
      "Epoch 105/128\n",
      "50/50 [==============================] - 0s 3ms/step - loss: 8.0971 - val_loss: 10.6139\n",
      "Epoch 106/128\n",
      "50/50 [==============================] - 0s 3ms/step - loss: 9.0701 - val_loss: 8.5736\n",
      "Epoch 107/128\n",
      "50/50 [==============================] - 0s 3ms/step - loss: 7.8567 - val_loss: 10.8034\n",
      "Epoch 108/128\n",
      "50/50 [==============================] - 0s 3ms/step - loss: 8.5325 - val_loss: 8.6218\n",
      "Epoch 109/128\n",
      "50/50 [==============================] - 0s 3ms/step - loss: 9.2433 - val_loss: 11.3866\n",
      "Epoch 110/128\n",
      "50/50 [==============================] - 0s 3ms/step - loss: 9.0065 - val_loss: 8.7367\n",
      "Epoch 111/128\n",
      "50/50 [==============================] - 0s 4ms/step - loss: 7.7653 - val_loss: 5.6266\n",
      "Epoch 112/128\n",
      "50/50 [==============================] - 0s 3ms/step - loss: 7.5396 - val_loss: 6.8177\n",
      "Epoch 113/128\n",
      "50/50 [==============================] - 0s 3ms/step - loss: 7.1082 - val_loss: 5.3817\n",
      "Epoch 114/128\n",
      "50/50 [==============================] - 0s 3ms/step - loss: 7.3453 - val_loss: 8.7060\n",
      "Epoch 115/128\n",
      "50/50 [==============================] - 0s 3ms/step - loss: 7.8819 - val_loss: 6.3261\n",
      "Epoch 116/128\n",
      "50/50 [==============================] - 0s 4ms/step - loss: 6.9386 - val_loss: 8.8011\n",
      "Epoch 117/128\n",
      "50/50 [==============================] - 0s 3ms/step - loss: 9.7432 - val_loss: 10.0720\n",
      "Epoch 118/128\n",
      "50/50 [==============================] - 0s 3ms/step - loss: 8.4415 - val_loss: 9.3052\n",
      "Epoch 119/128\n",
      "50/50 [==============================] - 0s 3ms/step - loss: 9.5677 - val_loss: 6.5607\n",
      "Epoch 120/128\n",
      "50/50 [==============================] - 0s 3ms/step - loss: 8.1483 - val_loss: 6.8677\n",
      "Epoch 121/128\n",
      "50/50 [==============================] - 0s 4ms/step - loss: 6.9810 - val_loss: 6.0908\n",
      "Epoch 122/128\n",
      "50/50 [==============================] - 0s 3ms/step - loss: 7.3809 - val_loss: 9.1271\n",
      "Epoch 123/128\n",
      "50/50 [==============================] - 0s 3ms/step - loss: 8.2157 - val_loss: 6.0283\n",
      "Epoch 124/128\n",
      "50/50 [==============================] - 0s 4ms/step - loss: 7.5510 - val_loss: 10.4241\n",
      "Epoch 125/128\n",
      "50/50 [==============================] - 0s 4ms/step - loss: 7.9144 - val_loss: 7.7897\n",
      "Epoch 126/128\n",
      "50/50 [==============================] - 0s 4ms/step - loss: 8.5282 - val_loss: 7.8745\n",
      "Epoch 127/128\n",
      "50/50 [==============================] - 0s 3ms/step - loss: 7.9809 - val_loss: 5.2474\n",
      "Epoch 128/128\n",
      "50/50 [==============================] - 0s 3ms/step - loss: 7.3818 - val_loss: 6.3281\n"
     ]
    }
   ],
   "source": [
    "res=model.fit(X_train, y_train, validation_data=(X_test,y_test),batch_size = 8, epochs = 128)"
   ]
  },
  {
   "cell_type": "code",
   "execution_count": 13,
   "metadata": {},
   "outputs": [
    {
     "name": "stdout",
     "output_type": "stream",
     "text": [
      "4/4 [==============================] - 0s 2ms/step\n"
     ]
    }
   ],
   "source": [
    "y_NN = model.predict(X_test)\n",
    "NN = r2_score(y_test, y_NN)"
   ]
  },
  {
   "cell_type": "code",
   "execution_count": 14,
   "metadata": {},
   "outputs": [
    {
     "name": "stdout",
     "output_type": "stream",
     "text": [
      "NN_score =  0.9208705214251356\n"
     ]
    }
   ],
   "source": [
    "print(\"NN_score = \",NN)"
   ]
  },
  {
   "cell_type": "code",
   "execution_count": 15,
   "metadata": {},
   "outputs": [
    {
     "data": {
      "text/plain": [
       "[<matplotlib.lines.Line2D at 0x7f2a6c303f40>]"
      ]
     },
     "execution_count": 15,
     "metadata": {},
     "output_type": "execute_result"
    },
    {
     "data": {
      "image/png": "[encoded data removed]",
      "text/plain": [
       "<Figure size 432x288 with 1 Axes>"
      ]
     },
     "metadata": {
      "needs_background": "light"
     },
     "output_type": "display_data"
    }
   ],
   "source": [
    "plt.plot(res.history['loss'])\n",
    "plt.plot(res.history['val_loss'])"
   ]
  },
  {
   "cell_type": "markdown",
   "metadata": {},
   "source": [
    "# Ploting Bar"
   ]
  },
  {
   "cell_type": "code",
   "execution_count": 16,
   "metadata": {},
   "outputs": [
    {
     "data": {
      "image/png": "[encoded data removed]",
      "text/plain": [
       "<Figure size 432x288 with 1 Axes>"
      ]
     },
     "metadata": {
      "needs_background": "light"
     },
     "output_type": "display_data"
    }
   ],
   "source": [
    "x=['SVM','LR','ANN','DT','RF']\n",
    "y=[svr, lr,NN, dt, rf]\n",
    "colors = ['red', 'blue', 'green', 'orange', 'purple']\n",
    "plt.bar(x, y,color=colors)\n",
    "plt.xlabel('Models')\n",
    "plt.ylabel('Score')\n",
    "plt.title('R2 Score')\n",
    "plt.show()"
   ]
  },
  {
   "cell_type": "code",
   "execution_count": 23,
   "metadata": {},
   "outputs": [
    {
     "name": "stdout",
     "output_type": "stream",
     "text": [
      "Score of SVM =  0.8530222352741897\n",
      "Score of LR =  0.8091691391101397\n",
      "Score of ANN =  0.9208705214251356\n",
      "Score of DT =  0.78006254711656\n",
      "Score of RF =  0.8950097394835661\n"
     ]
    }
   ],
   "source": [
    "for i in range(0,len(y)):\n",
    "    print(\"Score of \"+x[i]+\" = \",y[i])"
   ]
  },
  {
   "cell_type": "code",
   "execution_count": null,
   "metadata": {},
   "outputs": [],
   "source": []
  }
 ],
 "metadata": {
  "kernelspec": {
   "display_name": "Python 3 (ipykernel)",
   "language": "python",
   "name": "python3"
  },
  "language_info": {
   "codemirror_mode": {
    "name": "ipython",
    "version": 3
   },
   "file_extension": ".py",
   "mimetype": "text/x-python",
   "name": "python",
   "nbconvert_exporter": "python",
   "pygments_lexer": "ipython3",
   "version": "3.9.12"
  }
 },
 "nbformat": 4,
 "nbformat_minor": 4
}
