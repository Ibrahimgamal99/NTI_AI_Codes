{
  "nbformat": 4,
  "nbformat_minor": 0,
  "metadata": {
    "colab": {
      "provenance": []
    },
    "kernelspec": {
      "name": "python3",
      "display_name": "Python 3"
    },
    "language_info": {
      "name": "python"
    },
    "accelerator": "GPU",
    "gpuClass": "standard"
  },
  "cells": [
    {
      "cell_type": "code",
      "execution_count": 1,
      "metadata": {
        "id": "cEGzipCckmLG"
      },
      "outputs": [],
      "source": [
        "import keras\n",
        "import pandas as pd\n",
        "from keras.utils import pad_sequences\n",
        "from keras.models import Sequential\n",
        "from keras.layers import LSTM,Embedding,Dense,Dropout\n",
        "from keras.datasets import imdb"
      ]
    },
    {
      "cell_type": "code",
      "source": [
        "(x_train, y_train), (x_test, y_test) = imdb.load_data(num_words=2048)"
      ],
      "metadata": {
        "id": "Nr0F5K_xqDgN"
      },
      "execution_count": 2,
      "outputs": []
    },
    {
      "cell_type": "code",
      "source": [
        "x_train = pad_sequences(x_train, maxlen=64)\n",
        "x_test = pad_sequences(x_test, maxlen=64)"
      ],
      "metadata": {
        "id": "pXRomAiKrqda"
      },
      "execution_count": 3,
      "outputs": []
    },
    {
      "cell_type": "code",
      "source": [
        "model = Sequential()\n",
        "model.add(Embedding(2048, 128))\n",
        "model.add(LSTM(256))\n",
        "model.add(Dense(1, activation='sigmoid'))"
      ],
      "metadata": {
        "id": "FV02APq7H1Za"
      },
      "execution_count": 4,
      "outputs": []
    },
    {
      "cell_type": "code",
      "source": [
        "model.compile(loss='binary_crossentropy',\n",
        "optimizer='adam',\n",
        "metrics=['accuracy'])"
      ],
      "metadata": {
        "id": "eoRWb6Varl46"
      },
      "execution_count": 5,
      "outputs": []
    },
    {
      "cell_type": "code",
      "source": [
        "model.fit(x_train, y_train,batch_size=8,epochs=8,validation_data=(x_test, y_test))"
      ],
      "metadata": {
        "colab": {
          "base_uri": "https://localhost:8080/"
        },
        "id": "6yk1uFK_lsjh",
        "outputId": "6ab1e038-851c-403e-fd42-0350c9763349"
      },
      "execution_count": 6,
      "outputs": [
        {
          "output_type": "stream",
          "name": "stdout",
          "text": [
            "Epoch 1/8\n",
            "3125/3125 [==============================] - 46s 13ms/step - loss: 0.4794 - accuracy: 0.7667 - val_loss: 0.4223 - val_accuracy: 0.7957\n",
            "Epoch 2/8\n",
            "3125/3125 [==============================] - 29s 9ms/step - loss: 0.3607 - accuracy: 0.8395 - val_loss: 0.3726 - val_accuracy: 0.8338\n",
            "Epoch 3/8\n",
            "3125/3125 [==============================] - 27s 9ms/step - loss: 0.3142 - accuracy: 0.8644 - val_loss: 0.3886 - val_accuracy: 0.8340\n",
            "Epoch 4/8\n",
            "3125/3125 [==============================] - 27s 9ms/step - loss: 0.2730 - accuracy: 0.8844 - val_loss: 0.3951 - val_accuracy: 0.8270\n",
            "Epoch 5/8\n",
            "3125/3125 [==============================] - 30s 10ms/step - loss: 0.2345 - accuracy: 0.9038 - val_loss: 0.4136 - val_accuracy: 0.8233\n",
            "Epoch 6/8\n",
            "3125/3125 [==============================] - 29s 9ms/step - loss: 0.1908 - accuracy: 0.9235 - val_loss: 0.4534 - val_accuracy: 0.8187\n",
            "Epoch 7/8\n",
            "3125/3125 [==============================] - 30s 9ms/step - loss: 0.1488 - accuracy: 0.9420 - val_loss: 0.5255 - val_accuracy: 0.8186\n",
            "Epoch 8/8\n",
            "3125/3125 [==============================] - 29s 9ms/step - loss: 0.1112 - accuracy: 0.9584 - val_loss: 0.6009 - val_accuracy: 0.8174\n"
          ]
        },
        {
          "output_type": "execute_result",
          "data": {
            "text/plain": [
              "<keras.callbacks.History at 0x7fc8c03ebfa0>"
            ]
          },
          "metadata": {},
          "execution_count": 6
        }
      ]
    },
    {
      "cell_type": "code",
      "source": [],
      "metadata": {
        "id": "3GHSmCrqrlOj"
      },
      "execution_count": 6,
      "outputs": []
    }
  ]
}